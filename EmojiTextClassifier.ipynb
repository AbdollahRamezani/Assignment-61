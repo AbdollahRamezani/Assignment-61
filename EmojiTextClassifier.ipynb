{
  "nbformat": 4,
  "nbformat_minor": 0,
  "metadata": {
    "colab": {
      "provenance": [],
      "gpuType": "T4"
    },
    "kernelspec": {
      "name": "python3",
      "display_name": "Python 3"
    },
    "language_info": {
      "name": "python"
    },
    "accelerator": "GPU"
  },
  "cells": [
    {
      "cell_type": "code",
      "execution_count": 1,
      "metadata": {
        "id": "ArVEQZUyaRqu"
      },
      "outputs": [],
      "source": [
        "import tensorflow as tf\n",
        "import numpy as np\n",
        "import time\n",
        "import pandas as pd"
      ]
    },
    {
      "cell_type": "code",
      "source": [
        "def read_csv(file_path):\n",
        "  df = pd.read_csv(file_path)\n",
        "  X = np.array(df[\"sentence\"])\n",
        "  Y = np.array(df[\"label\"], dtype=int)\n",
        "  return X, Y"
      ],
      "metadata": {
        "id": "z7eoI3EPa86i"
      },
      "execution_count": 3,
      "outputs": []
    },
    {
      "cell_type": "code",
      "source": [
        "X_train, Y_train = read_csv(\"/content/drive/MyDrive/Dataset/Emoji_Text_Classification/train.csv\")\n",
        "X_test, Y_test = read_csv(\"/content/drive/MyDrive/Dataset/Emoji_Text_Classification/test.csv\")"
      ],
      "metadata": {
        "id": "UqgwsD3FbQu7"
      },
      "execution_count": 4,
      "outputs": []
    },
    {
      "cell_type": "code",
      "source": [
        "def label_to_emoji(label):\n",
        "  emojies = [\"💚\", \"⚽️\", \"😍\", \"😞\", \"🍴\"]\n",
        "  return emojies[label]"
      ],
      "metadata": {
        "id": "cfVPRMQtctqz"
      },
      "execution_count": 5,
      "outputs": []
    },
    {
      "cell_type": "code",
      "source": [
        "!wget https://nlp.stanford.edu/data/glove.6B.zip"
      ],
      "metadata": {
        "id": "TWPOXrHEcyf7"
      },
      "execution_count": null,
      "outputs": []
    },
    {
      "cell_type": "code",
      "source": [
        "!unzip -q glove.6B -d/content/drive/MyDrive/Dataset/Emoji_Text_Classification/glove.6B"
      ],
      "metadata": {
        "colab": {
          "base_uri": "https://localhost:8080/"
        },
        "id": "aVe7NmRbd0pq",
        "outputId": "499391ed-d6ff-4de5-f3f9-55af7368c96e"
      },
      "execution_count": 60,
      "outputs": [
        {
          "output_type": "stream",
          "name": "stdout",
          "text": [
            "replace /content/drive/MyDrive/Dataset/Emoji_Text_Classification/glove.6B/glove.6B.50d.txt? [y]es, [n]o, [A]ll, [N]one, [r]ename: "
          ]
        }
      ]
    },
    {
      "cell_type": "code",
      "source": [
        "f_50d = open(\"/content/drive/MyDrive/Dataset/Emoji_Text_Classification/glove.6B/glove.6B.50d.txt\", encoding=\"utf-8\")\n",
        "f_100d = open(\"/content/drive/MyDrive/Dataset/Emoji_Text_Classification/glove.6B/glove.6B.100d.txt\", encoding=\"utf-8\")\n",
        "f_200d = open(\"/content/drive/MyDrive/Dataset/Emoji_Text_Classification/glove.6B/glove.6B.200d.txt\", encoding=\"utf-8\")\n",
        "f_300d = open(\"/content/drive/MyDrive/Dataset/Emoji_Text_Classification/glove.6B/glove.6B.300d.txt\", encoding=\"utf-8\")"
      ],
      "metadata": {
        "id": "EdjP9xuYebbC"
      },
      "execution_count": 80,
      "outputs": []
    },
    {
      "cell_type": "code",
      "source": [
        "word_vectors = {}\n",
        "\n",
        "for line in f_300d:\n",
        "  line = line.strip().split()\n",
        "  word = line[0]\n",
        "  vector = np.array(line[1:], dtype=np.float64)\n",
        "  word_vectors[word] = vector"
      ],
      "metadata": {
        "id": "hjZv7saXfcV9"
      },
      "execution_count": 81,
      "outputs": []
    },
    {
      "cell_type": "code",
      "source": [
        "def sentence_to_avg(sentence):\n",
        "  try:\n",
        "    sentence = sentence.lower()\n",
        "    words = sentence.strip().split(\" \")\n",
        "\n",
        "    sum_vectors = np.zeros((300, ))\n",
        "    for word in words:\n",
        "      sum_vectors += word_vectors[word]\n",
        "\n",
        "    avg_vector = sum_vectors / len(words)\n",
        "    return avg_vector\n",
        "  except:\n",
        "    print(sentence)\n",
        "    return None"
      ],
      "metadata": {
        "id": "SNxkl5gHfs3J"
      },
      "execution_count": 82,
      "outputs": []
    },
    {
      "cell_type": "code",
      "source": [
        "X_train_avg = []\n",
        "\n",
        "for x_train in X_train:\n",
        "  X_train_avg.append(sentence_to_avg(x_train))\n",
        "\n",
        "X_train_avg = np.array(X_train_avg)\n",
        "\n",
        "X_train_avg.shape"
      ],
      "metadata": {
        "colab": {
          "base_uri": "https://localhost:8080/"
        },
        "id": "teXi7j0Sf24i",
        "outputId": "2b4a23db-bf96-4822-97aa-9087e4d9cf5d"
      },
      "execution_count": 83,
      "outputs": [
        {
          "output_type": "execute_result",
          "data": {
            "text/plain": [
              "(132, 300)"
            ]
          },
          "metadata": {},
          "execution_count": 83
        }
      ]
    },
    {
      "cell_type": "code",
      "source": [
        "X_test_avg = []\n",
        "\n",
        "for x_test in X_test:\n",
        "  X_test_avg.append(sentence_to_avg(x_test))\n",
        "\n",
        "X_test_avg = np.array(X_test_avg)\n",
        "\n",
        "X_test_avg.shape"
      ],
      "metadata": {
        "colab": {
          "base_uri": "https://localhost:8080/"
        },
        "id": "7dzxYFMwjFfa",
        "outputId": "f33ab3bb-c5b9-420d-959c-2a779f07155e"
      },
      "execution_count": 84,
      "outputs": [
        {
          "output_type": "execute_result",
          "data": {
            "text/plain": [
              "(56, 300)"
            ]
          },
          "metadata": {},
          "execution_count": 84
        }
      ]
    },
    {
      "cell_type": "code",
      "source": [
        "Y_train_one_hot = tf.keras.utils.to_categorical(Y_train, num_classes=5)\n",
        "Y_test_one_hot = tf.keras.utils.to_categorical(Y_test, num_classes=5)"
      ],
      "metadata": {
        "id": "eRWYzKdSf9wi"
      },
      "execution_count": 85,
      "outputs": []
    },
    {
      "cell_type": "code",
      "source": [
        "model = tf.keras.models.Sequential([\n",
        "    tf.keras.layers.Dropout(0.5),\n",
        "    tf.keras.layers.Dense(5, input_shape=(300,), activation=\"softmax\")\n",
        "])"
      ],
      "metadata": {
        "id": "Zpn2Mq1fgFCR"
      },
      "execution_count": 93,
      "outputs": []
    },
    {
      "cell_type": "code",
      "source": [
        "model.compile(\n",
        "    optimizer=tf.keras.optimizers.Adam(),\n",
        "    loss=\"categorical_crossentropy\",\n",
        "    metrics=[\"accuracy\"]\n",
        ")"
      ],
      "metadata": {
        "id": "EFTUPWO3gI5y"
      },
      "execution_count": 94,
      "outputs": []
    },
    {
      "cell_type": "code",
      "source": [
        "result_train = model.fit(X_train_avg, Y_train_one_hot, epochs=250)"
      ],
      "metadata": {
        "colab": {
          "base_uri": "https://localhost:8080/"
        },
        "id": "sMgaV4OugM39",
        "outputId": "a92627e8-17d5-4bca-dcfd-61272a1cb10c"
      },
      "execution_count": 95,
      "outputs": [
        {
          "output_type": "stream",
          "name": "stdout",
          "text": [
            "Epoch 1/250\n",
            "5/5 [==============================] - 0s 4ms/step - loss: 1.7344 - accuracy: 0.1591\n",
            "Epoch 2/250\n",
            "5/5 [==============================] - 0s 3ms/step - loss: 1.6884 - accuracy: 0.1439\n",
            "Epoch 3/250\n",
            "5/5 [==============================] - 0s 3ms/step - loss: 1.6434 - accuracy: 0.2121\n",
            "Epoch 4/250\n",
            "5/5 [==============================] - 0s 3ms/step - loss: 1.6039 - accuracy: 0.2197\n",
            "Epoch 5/250\n",
            "5/5 [==============================] - 0s 3ms/step - loss: 1.6009 - accuracy: 0.2348\n",
            "Epoch 6/250\n",
            "5/5 [==============================] - 0s 3ms/step - loss: 1.5402 - accuracy: 0.2803\n",
            "Epoch 7/250\n",
            "5/5 [==============================] - 0s 3ms/step - loss: 1.4976 - accuracy: 0.3182\n",
            "Epoch 8/250\n",
            "5/5 [==============================] - 0s 3ms/step - loss: 1.5071 - accuracy: 0.3182\n",
            "Epoch 9/250\n",
            "5/5 [==============================] - 0s 3ms/step - loss: 1.4798 - accuracy: 0.2652\n",
            "Epoch 10/250\n",
            "5/5 [==============================] - 0s 4ms/step - loss: 1.4755 - accuracy: 0.4242\n",
            "Epoch 11/250\n",
            "5/5 [==============================] - 0s 4ms/step - loss: 1.4519 - accuracy: 0.3333\n",
            "Epoch 12/250\n",
            "5/5 [==============================] - 0s 3ms/step - loss: 1.4070 - accuracy: 0.3636\n",
            "Epoch 13/250\n",
            "5/5 [==============================] - 0s 3ms/step - loss: 1.3955 - accuracy: 0.4015\n",
            "Epoch 14/250\n",
            "5/5 [==============================] - 0s 3ms/step - loss: 1.3444 - accuracy: 0.5000\n",
            "Epoch 15/250\n",
            "5/5 [==============================] - 0s 4ms/step - loss: 1.3488 - accuracy: 0.4167\n",
            "Epoch 16/250\n",
            "5/5 [==============================] - 0s 3ms/step - loss: 1.3262 - accuracy: 0.3864\n",
            "Epoch 17/250\n",
            "5/5 [==============================] - 0s 4ms/step - loss: 1.3487 - accuracy: 0.4167\n",
            "Epoch 18/250\n",
            "5/5 [==============================] - 0s 4ms/step - loss: 1.3075 - accuracy: 0.4015\n",
            "Epoch 19/250\n",
            "5/5 [==============================] - 0s 3ms/step - loss: 1.2770 - accuracy: 0.5455\n",
            "Epoch 20/250\n",
            "5/5 [==============================] - 0s 3ms/step - loss: 1.2822 - accuracy: 0.5076\n",
            "Epoch 21/250\n",
            "5/5 [==============================] - 0s 4ms/step - loss: 1.2682 - accuracy: 0.5303\n",
            "Epoch 22/250\n",
            "5/5 [==============================] - 0s 4ms/step - loss: 1.2624 - accuracy: 0.5379\n",
            "Epoch 23/250\n",
            "5/5 [==============================] - 0s 3ms/step - loss: 1.1940 - accuracy: 0.5985\n",
            "Epoch 24/250\n",
            "5/5 [==============================] - 0s 3ms/step - loss: 1.1983 - accuracy: 0.5606\n",
            "Epoch 25/250\n",
            "5/5 [==============================] - 0s 4ms/step - loss: 1.2081 - accuracy: 0.5379\n",
            "Epoch 26/250\n",
            "5/5 [==============================] - 0s 4ms/step - loss: 1.1724 - accuracy: 0.6061\n",
            "Epoch 27/250\n",
            "5/5 [==============================] - 0s 3ms/step - loss: 1.1554 - accuracy: 0.5985\n",
            "Epoch 28/250\n",
            "5/5 [==============================] - 0s 4ms/step - loss: 1.1826 - accuracy: 0.6212\n",
            "Epoch 29/250\n",
            "5/5 [==============================] - 0s 3ms/step - loss: 1.1716 - accuracy: 0.5606\n",
            "Epoch 30/250\n",
            "5/5 [==============================] - 0s 3ms/step - loss: 1.1517 - accuracy: 0.5985\n",
            "Epoch 31/250\n",
            "5/5 [==============================] - 0s 5ms/step - loss: 1.1188 - accuracy: 0.6288\n",
            "Epoch 32/250\n",
            "5/5 [==============================] - 0s 4ms/step - loss: 1.1071 - accuracy: 0.6591\n",
            "Epoch 33/250\n",
            "5/5 [==============================] - 0s 4ms/step - loss: 1.0827 - accuracy: 0.6894\n",
            "Epoch 34/250\n",
            "5/5 [==============================] - 0s 3ms/step - loss: 1.0904 - accuracy: 0.6818\n",
            "Epoch 35/250\n",
            "5/5 [==============================] - 0s 3ms/step - loss: 1.0521 - accuracy: 0.6970\n",
            "Epoch 36/250\n",
            "5/5 [==============================] - 0s 3ms/step - loss: 1.0898 - accuracy: 0.6212\n",
            "Epoch 37/250\n",
            "5/5 [==============================] - 0s 3ms/step - loss: 1.0717 - accuracy: 0.5909\n",
            "Epoch 38/250\n",
            "5/5 [==============================] - 0s 3ms/step - loss: 1.0660 - accuracy: 0.6667\n",
            "Epoch 39/250\n",
            "5/5 [==============================] - 0s 3ms/step - loss: 1.0516 - accuracy: 0.6364\n",
            "Epoch 40/250\n",
            "5/5 [==============================] - 0s 3ms/step - loss: 0.9960 - accuracy: 0.6970\n",
            "Epoch 41/250\n",
            "5/5 [==============================] - 0s 3ms/step - loss: 1.0487 - accuracy: 0.6970\n",
            "Epoch 42/250\n",
            "5/5 [==============================] - 0s 4ms/step - loss: 0.9939 - accuracy: 0.7273\n",
            "Epoch 43/250\n",
            "5/5 [==============================] - 0s 3ms/step - loss: 0.9682 - accuracy: 0.7500\n",
            "Epoch 44/250\n",
            "5/5 [==============================] - 0s 4ms/step - loss: 0.9816 - accuracy: 0.7045\n",
            "Epoch 45/250\n",
            "5/5 [==============================] - 0s 3ms/step - loss: 0.9996 - accuracy: 0.6970\n",
            "Epoch 46/250\n",
            "5/5 [==============================] - 0s 3ms/step - loss: 0.9772 - accuracy: 0.6894\n",
            "Epoch 47/250\n",
            "5/5 [==============================] - 0s 4ms/step - loss: 1.0039 - accuracy: 0.6894\n",
            "Epoch 48/250\n",
            "5/5 [==============================] - 0s 3ms/step - loss: 0.9767 - accuracy: 0.7045\n",
            "Epoch 49/250\n",
            "5/5 [==============================] - 0s 3ms/step - loss: 0.9773 - accuracy: 0.7197\n",
            "Epoch 50/250\n",
            "5/5 [==============================] - 0s 3ms/step - loss: 0.9399 - accuracy: 0.7652\n",
            "Epoch 51/250\n",
            "5/5 [==============================] - 0s 4ms/step - loss: 0.9280 - accuracy: 0.7576\n",
            "Epoch 52/250\n",
            "5/5 [==============================] - 0s 4ms/step - loss: 0.8997 - accuracy: 0.7803\n",
            "Epoch 53/250\n",
            "5/5 [==============================] - 0s 5ms/step - loss: 0.9238 - accuracy: 0.7727\n",
            "Epoch 54/250\n",
            "5/5 [==============================] - 0s 5ms/step - loss: 0.9120 - accuracy: 0.7803\n",
            "Epoch 55/250\n",
            "5/5 [==============================] - 0s 5ms/step - loss: 0.9094 - accuracy: 0.7121\n",
            "Epoch 56/250\n",
            "5/5 [==============================] - 0s 4ms/step - loss: 0.9163 - accuracy: 0.6970\n",
            "Epoch 57/250\n",
            "5/5 [==============================] - 0s 4ms/step - loss: 0.8615 - accuracy: 0.7879\n",
            "Epoch 58/250\n",
            "5/5 [==============================] - 0s 4ms/step - loss: 0.8937 - accuracy: 0.7500\n",
            "Epoch 59/250\n",
            "5/5 [==============================] - 0s 4ms/step - loss: 0.8881 - accuracy: 0.7652\n",
            "Epoch 60/250\n",
            "5/5 [==============================] - 0s 4ms/step - loss: 0.8682 - accuracy: 0.7576\n",
            "Epoch 61/250\n",
            "5/5 [==============================] - 0s 4ms/step - loss: 0.8395 - accuracy: 0.7500\n",
            "Epoch 62/250\n",
            "5/5 [==============================] - 0s 5ms/step - loss: 0.8622 - accuracy: 0.7955\n",
            "Epoch 63/250\n",
            "5/5 [==============================] - 0s 5ms/step - loss: 0.8189 - accuracy: 0.8106\n",
            "Epoch 64/250\n",
            "5/5 [==============================] - 0s 4ms/step - loss: 0.8345 - accuracy: 0.7727\n",
            "Epoch 65/250\n",
            "5/5 [==============================] - 0s 5ms/step - loss: 0.8853 - accuracy: 0.7348\n",
            "Epoch 66/250\n",
            "5/5 [==============================] - 0s 5ms/step - loss: 0.8202 - accuracy: 0.7803\n",
            "Epoch 67/250\n",
            "5/5 [==============================] - 0s 4ms/step - loss: 0.8502 - accuracy: 0.7955\n",
            "Epoch 68/250\n",
            "5/5 [==============================] - 0s 5ms/step - loss: 0.8324 - accuracy: 0.7803\n",
            "Epoch 69/250\n",
            "5/5 [==============================] - 0s 6ms/step - loss: 0.8442 - accuracy: 0.7576\n",
            "Epoch 70/250\n",
            "5/5 [==============================] - 0s 4ms/step - loss: 0.8184 - accuracy: 0.7803\n",
            "Epoch 71/250\n",
            "5/5 [==============================] - 0s 5ms/step - loss: 0.8019 - accuracy: 0.8030\n",
            "Epoch 72/250\n",
            "5/5 [==============================] - 0s 6ms/step - loss: 0.7973 - accuracy: 0.7500\n",
            "Epoch 73/250\n",
            "5/5 [==============================] - 0s 5ms/step - loss: 0.8125 - accuracy: 0.7803\n",
            "Epoch 74/250\n",
            "5/5 [==============================] - 0s 5ms/step - loss: 0.7941 - accuracy: 0.8258\n",
            "Epoch 75/250\n",
            "5/5 [==============================] - 0s 4ms/step - loss: 0.7828 - accuracy: 0.7879\n",
            "Epoch 76/250\n",
            "5/5 [==============================] - 0s 4ms/step - loss: 0.8039 - accuracy: 0.7955\n",
            "Epoch 77/250\n",
            "5/5 [==============================] - 0s 4ms/step - loss: 0.7659 - accuracy: 0.8333\n",
            "Epoch 78/250\n",
            "5/5 [==============================] - 0s 5ms/step - loss: 0.7693 - accuracy: 0.8258\n",
            "Epoch 79/250\n",
            "5/5 [==============================] - 0s 4ms/step - loss: 0.7667 - accuracy: 0.7955\n",
            "Epoch 80/250\n",
            "5/5 [==============================] - 0s 4ms/step - loss: 0.7843 - accuracy: 0.7803\n",
            "Epoch 81/250\n",
            "5/5 [==============================] - 0s 4ms/step - loss: 0.7536 - accuracy: 0.7955\n",
            "Epoch 82/250\n",
            "5/5 [==============================] - 0s 4ms/step - loss: 0.7411 - accuracy: 0.8258\n",
            "Epoch 83/250\n",
            "5/5 [==============================] - 0s 5ms/step - loss: 0.7654 - accuracy: 0.7879\n",
            "Epoch 84/250\n",
            "5/5 [==============================] - 0s 4ms/step - loss: 0.7664 - accuracy: 0.7576\n",
            "Epoch 85/250\n",
            "5/5 [==============================] - 0s 4ms/step - loss: 0.7330 - accuracy: 0.8030\n",
            "Epoch 86/250\n",
            "5/5 [==============================] - 0s 5ms/step - loss: 0.7744 - accuracy: 0.7803\n",
            "Epoch 87/250\n",
            "5/5 [==============================] - 0s 5ms/step - loss: 0.7010 - accuracy: 0.7879\n",
            "Epoch 88/250\n",
            "5/5 [==============================] - 0s 4ms/step - loss: 0.7398 - accuracy: 0.7955\n",
            "Epoch 89/250\n",
            "5/5 [==============================] - 0s 4ms/step - loss: 0.6937 - accuracy: 0.8409\n",
            "Epoch 90/250\n",
            "5/5 [==============================] - 0s 4ms/step - loss: 0.7362 - accuracy: 0.7652\n",
            "Epoch 91/250\n",
            "5/5 [==============================] - 0s 4ms/step - loss: 0.6773 - accuracy: 0.8409\n",
            "Epoch 92/250\n",
            "5/5 [==============================] - 0s 4ms/step - loss: 0.7258 - accuracy: 0.8258\n",
            "Epoch 93/250\n",
            "5/5 [==============================] - 0s 4ms/step - loss: 0.7394 - accuracy: 0.7727\n",
            "Epoch 94/250\n",
            "5/5 [==============================] - 0s 4ms/step - loss: 0.7121 - accuracy: 0.8182\n",
            "Epoch 95/250\n",
            "5/5 [==============================] - 0s 6ms/step - loss: 0.7008 - accuracy: 0.8258\n",
            "Epoch 96/250\n",
            "5/5 [==============================] - 0s 4ms/step - loss: 0.7181 - accuracy: 0.7955\n",
            "Epoch 97/250\n",
            "5/5 [==============================] - 0s 4ms/step - loss: 0.7052 - accuracy: 0.8106\n",
            "Epoch 98/250\n",
            "5/5 [==============================] - 0s 4ms/step - loss: 0.6690 - accuracy: 0.8409\n",
            "Epoch 99/250\n",
            "5/5 [==============================] - 0s 4ms/step - loss: 0.6566 - accuracy: 0.8333\n",
            "Epoch 100/250\n",
            "5/5 [==============================] - 0s 4ms/step - loss: 0.7033 - accuracy: 0.8409\n",
            "Epoch 101/250\n",
            "5/5 [==============================] - 0s 4ms/step - loss: 0.6744 - accuracy: 0.8030\n",
            "Epoch 102/250\n",
            "5/5 [==============================] - 0s 5ms/step - loss: 0.7006 - accuracy: 0.8409\n",
            "Epoch 103/250\n",
            "5/5 [==============================] - 0s 5ms/step - loss: 0.6811 - accuracy: 0.8106\n",
            "Epoch 104/250\n",
            "5/5 [==============================] - 0s 5ms/step - loss: 0.6661 - accuracy: 0.8485\n",
            "Epoch 105/250\n",
            "5/5 [==============================] - 0s 5ms/step - loss: 0.6579 - accuracy: 0.8182\n",
            "Epoch 106/250\n",
            "5/5 [==============================] - 0s 7ms/step - loss: 0.6780 - accuracy: 0.8485\n",
            "Epoch 107/250\n",
            "5/5 [==============================] - 0s 4ms/step - loss: 0.6626 - accuracy: 0.8636\n",
            "Epoch 108/250\n",
            "5/5 [==============================] - 0s 4ms/step - loss: 0.6730 - accuracy: 0.8485\n",
            "Epoch 109/250\n",
            "5/5 [==============================] - 0s 5ms/step - loss: 0.6444 - accuracy: 0.8409\n",
            "Epoch 110/250\n",
            "5/5 [==============================] - 0s 4ms/step - loss: 0.6576 - accuracy: 0.8485\n",
            "Epoch 111/250\n",
            "5/5 [==============================] - 0s 4ms/step - loss: 0.6688 - accuracy: 0.8409\n",
            "Epoch 112/250\n",
            "5/5 [==============================] - 0s 4ms/step - loss: 0.6500 - accuracy: 0.8182\n",
            "Epoch 113/250\n",
            "5/5 [==============================] - 0s 4ms/step - loss: 0.6619 - accuracy: 0.8636\n",
            "Epoch 114/250\n",
            "5/5 [==============================] - 0s 4ms/step - loss: 0.6228 - accuracy: 0.8409\n",
            "Epoch 115/250\n",
            "5/5 [==============================] - 0s 4ms/step - loss: 0.6376 - accuracy: 0.8030\n",
            "Epoch 116/250\n",
            "5/5 [==============================] - 0s 4ms/step - loss: 0.6258 - accuracy: 0.8561\n",
            "Epoch 117/250\n",
            "5/5 [==============================] - 0s 6ms/step - loss: 0.6248 - accuracy: 0.8485\n",
            "Epoch 118/250\n",
            "5/5 [==============================] - 0s 5ms/step - loss: 0.6304 - accuracy: 0.8258\n",
            "Epoch 119/250\n",
            "5/5 [==============================] - 0s 5ms/step - loss: 0.6130 - accuracy: 0.8712\n",
            "Epoch 120/250\n",
            "5/5 [==============================] - 0s 6ms/step - loss: 0.6210 - accuracy: 0.8258\n",
            "Epoch 121/250\n",
            "5/5 [==============================] - 0s 5ms/step - loss: 0.6298 - accuracy: 0.8939\n",
            "Epoch 122/250\n",
            "5/5 [==============================] - 0s 6ms/step - loss: 0.6318 - accuracy: 0.8106\n",
            "Epoch 123/250\n",
            "5/5 [==============================] - 0s 6ms/step - loss: 0.5805 - accuracy: 0.8939\n",
            "Epoch 124/250\n",
            "5/5 [==============================] - 0s 4ms/step - loss: 0.6247 - accuracy: 0.8561\n",
            "Epoch 125/250\n",
            "5/5 [==============================] - 0s 5ms/step - loss: 0.5967 - accuracy: 0.8409\n",
            "Epoch 126/250\n",
            "5/5 [==============================] - 0s 5ms/step - loss: 0.5931 - accuracy: 0.8712\n",
            "Epoch 127/250\n",
            "5/5 [==============================] - 0s 5ms/step - loss: 0.6127 - accuracy: 0.8258\n",
            "Epoch 128/250\n",
            "5/5 [==============================] - 0s 5ms/step - loss: 0.5954 - accuracy: 0.8561\n",
            "Epoch 129/250\n",
            "5/5 [==============================] - 0s 5ms/step - loss: 0.6290 - accuracy: 0.8561\n",
            "Epoch 130/250\n",
            "5/5 [==============================] - 0s 5ms/step - loss: 0.5732 - accuracy: 0.8485\n",
            "Epoch 131/250\n",
            "5/5 [==============================] - 0s 5ms/step - loss: 0.5667 - accuracy: 0.8636\n",
            "Epoch 132/250\n",
            "5/5 [==============================] - 0s 6ms/step - loss: 0.6125 - accuracy: 0.8258\n",
            "Epoch 133/250\n",
            "5/5 [==============================] - 0s 6ms/step - loss: 0.5877 - accuracy: 0.8561\n",
            "Epoch 134/250\n",
            "5/5 [==============================] - 0s 6ms/step - loss: 0.5808 - accuracy: 0.8561\n",
            "Epoch 135/250\n",
            "5/5 [==============================] - 0s 5ms/step - loss: 0.5737 - accuracy: 0.8636\n",
            "Epoch 136/250\n",
            "5/5 [==============================] - 0s 8ms/step - loss: 0.5997 - accuracy: 0.8636\n",
            "Epoch 137/250\n",
            "5/5 [==============================] - 0s 5ms/step - loss: 0.5772 - accuracy: 0.8788\n",
            "Epoch 138/250\n",
            "5/5 [==============================] - 0s 5ms/step - loss: 0.5555 - accuracy: 0.8712\n",
            "Epoch 139/250\n",
            "5/5 [==============================] - 0s 5ms/step - loss: 0.5826 - accuracy: 0.8636\n",
            "Epoch 140/250\n",
            "5/5 [==============================] - 0s 5ms/step - loss: 0.5898 - accuracy: 0.8333\n",
            "Epoch 141/250\n",
            "5/5 [==============================] - 0s 5ms/step - loss: 0.5737 - accuracy: 0.8788\n",
            "Epoch 142/250\n",
            "5/5 [==============================] - 0s 5ms/step - loss: 0.5389 - accuracy: 0.8864\n",
            "Epoch 143/250\n",
            "5/5 [==============================] - 0s 5ms/step - loss: 0.5883 - accuracy: 0.8636\n",
            "Epoch 144/250\n",
            "5/5 [==============================] - 0s 6ms/step - loss: 0.5538 - accuracy: 0.8712\n",
            "Epoch 145/250\n",
            "5/5 [==============================] - 0s 7ms/step - loss: 0.5892 - accuracy: 0.8636\n",
            "Epoch 146/250\n",
            "5/5 [==============================] - 0s 6ms/step - loss: 0.5712 - accuracy: 0.8333\n",
            "Epoch 147/250\n",
            "5/5 [==============================] - 0s 5ms/step - loss: 0.5975 - accuracy: 0.8409\n",
            "Epoch 148/250\n",
            "5/5 [==============================] - 0s 4ms/step - loss: 0.5797 - accuracy: 0.8258\n",
            "Epoch 149/250\n",
            "5/5 [==============================] - 0s 5ms/step - loss: 0.5492 - accuracy: 0.8712\n",
            "Epoch 150/250\n",
            "5/5 [==============================] - 0s 5ms/step - loss: 0.5392 - accuracy: 0.8409\n",
            "Epoch 151/250\n",
            "5/5 [==============================] - 0s 5ms/step - loss: 0.5425 - accuracy: 0.8636\n",
            "Epoch 152/250\n",
            "5/5 [==============================] - 0s 7ms/step - loss: 0.5260 - accuracy: 0.9091\n",
            "Epoch 153/250\n",
            "5/5 [==============================] - 0s 5ms/step - loss: 0.5368 - accuracy: 0.8409\n",
            "Epoch 154/250\n",
            "5/5 [==============================] - 0s 5ms/step - loss: 0.5291 - accuracy: 0.8712\n",
            "Epoch 155/250\n",
            "5/5 [==============================] - 0s 5ms/step - loss: 0.5187 - accuracy: 0.8939\n",
            "Epoch 156/250\n",
            "5/5 [==============================] - 0s 7ms/step - loss: 0.5499 - accuracy: 0.8561\n",
            "Epoch 157/250\n",
            "5/5 [==============================] - 0s 5ms/step - loss: 0.5161 - accuracy: 0.8788\n",
            "Epoch 158/250\n",
            "5/5 [==============================] - 0s 5ms/step - loss: 0.5171 - accuracy: 0.9015\n",
            "Epoch 159/250\n",
            "5/5 [==============================] - 0s 5ms/step - loss: 0.5344 - accuracy: 0.8939\n",
            "Epoch 160/250\n",
            "5/5 [==============================] - 0s 5ms/step - loss: 0.4733 - accuracy: 0.9091\n",
            "Epoch 161/250\n",
            "5/5 [==============================] - 0s 6ms/step - loss: 0.5288 - accuracy: 0.8712\n",
            "Epoch 162/250\n",
            "5/5 [==============================] - 0s 5ms/step - loss: 0.5059 - accuracy: 0.8485\n",
            "Epoch 163/250\n",
            "5/5 [==============================] - 0s 5ms/step - loss: 0.5184 - accuracy: 0.8864\n",
            "Epoch 164/250\n",
            "5/5 [==============================] - 0s 5ms/step - loss: 0.5435 - accuracy: 0.8485\n",
            "Epoch 165/250\n",
            "5/5 [==============================] - 0s 4ms/step - loss: 0.5220 - accuracy: 0.8864\n",
            "Epoch 166/250\n",
            "5/5 [==============================] - 0s 4ms/step - loss: 0.5388 - accuracy: 0.8561\n",
            "Epoch 167/250\n",
            "5/5 [==============================] - 0s 4ms/step - loss: 0.5204 - accuracy: 0.8788\n",
            "Epoch 168/250\n",
            "5/5 [==============================] - 0s 4ms/step - loss: 0.4880 - accuracy: 0.9015\n",
            "Epoch 169/250\n",
            "5/5 [==============================] - 0s 5ms/step - loss: 0.5125 - accuracy: 0.8939\n",
            "Epoch 170/250\n",
            "5/5 [==============================] - 0s 5ms/step - loss: 0.5363 - accuracy: 0.8485\n",
            "Epoch 171/250\n",
            "5/5 [==============================] - 0s 4ms/step - loss: 0.5027 - accuracy: 0.8636\n",
            "Epoch 172/250\n",
            "5/5 [==============================] - 0s 5ms/step - loss: 0.5121 - accuracy: 0.8561\n",
            "Epoch 173/250\n",
            "5/5 [==============================] - 0s 6ms/step - loss: 0.5177 - accuracy: 0.8561\n",
            "Epoch 174/250\n",
            "5/5 [==============================] - 0s 5ms/step - loss: 0.4951 - accuracy: 0.8636\n",
            "Epoch 175/250\n",
            "5/5 [==============================] - 0s 4ms/step - loss: 0.5130 - accuracy: 0.8485\n",
            "Epoch 176/250\n",
            "5/5 [==============================] - 0s 4ms/step - loss: 0.4905 - accuracy: 0.9015\n",
            "Epoch 177/250\n",
            "5/5 [==============================] - 0s 4ms/step - loss: 0.4860 - accuracy: 0.8864\n",
            "Epoch 178/250\n",
            "5/5 [==============================] - 0s 4ms/step - loss: 0.4654 - accuracy: 0.9015\n",
            "Epoch 179/250\n",
            "5/5 [==============================] - 0s 5ms/step - loss: 0.4827 - accuracy: 0.9091\n",
            "Epoch 180/250\n",
            "5/5 [==============================] - 0s 5ms/step - loss: 0.4996 - accuracy: 0.8788\n",
            "Epoch 181/250\n",
            "5/5 [==============================] - 0s 4ms/step - loss: 0.5092 - accuracy: 0.8561\n",
            "Epoch 182/250\n",
            "5/5 [==============================] - 0s 4ms/step - loss: 0.5032 - accuracy: 0.8636\n",
            "Epoch 183/250\n",
            "5/5 [==============================] - 0s 4ms/step - loss: 0.5028 - accuracy: 0.8485\n",
            "Epoch 184/250\n",
            "5/5 [==============================] - 0s 4ms/step - loss: 0.4733 - accuracy: 0.8788\n",
            "Epoch 185/250\n",
            "5/5 [==============================] - 0s 4ms/step - loss: 0.4769 - accuracy: 0.9167\n",
            "Epoch 186/250\n",
            "5/5 [==============================] - 0s 4ms/step - loss: 0.4583 - accuracy: 0.9242\n",
            "Epoch 187/250\n",
            "5/5 [==============================] - 0s 4ms/step - loss: 0.4558 - accuracy: 0.9091\n",
            "Epoch 188/250\n",
            "5/5 [==============================] - 0s 4ms/step - loss: 0.4839 - accuracy: 0.8864\n",
            "Epoch 189/250\n",
            "5/5 [==============================] - 0s 4ms/step - loss: 0.4568 - accuracy: 0.9091\n",
            "Epoch 190/250\n",
            "5/5 [==============================] - 0s 5ms/step - loss: 0.4761 - accuracy: 0.9091\n",
            "Epoch 191/250\n",
            "5/5 [==============================] - 0s 4ms/step - loss: 0.4759 - accuracy: 0.8864\n",
            "Epoch 192/250\n",
            "5/5 [==============================] - 0s 4ms/step - loss: 0.4706 - accuracy: 0.8788\n",
            "Epoch 193/250\n",
            "5/5 [==============================] - 0s 4ms/step - loss: 0.4982 - accuracy: 0.8788\n",
            "Epoch 194/250\n",
            "5/5 [==============================] - 0s 4ms/step - loss: 0.4568 - accuracy: 0.9167\n",
            "Epoch 195/250\n",
            "5/5 [==============================] - 0s 4ms/step - loss: 0.4390 - accuracy: 0.9167\n",
            "Epoch 196/250\n",
            "5/5 [==============================] - 0s 4ms/step - loss: 0.4593 - accuracy: 0.8939\n",
            "Epoch 197/250\n",
            "5/5 [==============================] - 0s 5ms/step - loss: 0.4545 - accuracy: 0.9242\n",
            "Epoch 198/250\n",
            "5/5 [==============================] - 0s 5ms/step - loss: 0.4897 - accuracy: 0.8939\n",
            "Epoch 199/250\n",
            "5/5 [==============================] - 0s 4ms/step - loss: 0.4598 - accuracy: 0.8939\n",
            "Epoch 200/250\n",
            "5/5 [==============================] - 0s 4ms/step - loss: 0.4624 - accuracy: 0.9091\n",
            "Epoch 201/250\n",
            "5/5 [==============================] - 0s 4ms/step - loss: 0.4497 - accuracy: 0.8939\n",
            "Epoch 202/250\n",
            "5/5 [==============================] - 0s 5ms/step - loss: 0.5190 - accuracy: 0.8712\n",
            "Epoch 203/250\n",
            "5/5 [==============================] - 0s 5ms/step - loss: 0.4622 - accuracy: 0.9015\n",
            "Epoch 204/250\n",
            "5/5 [==============================] - 0s 4ms/step - loss: 0.4494 - accuracy: 0.9015\n",
            "Epoch 205/250\n",
            "5/5 [==============================] - 0s 6ms/step - loss: 0.4774 - accuracy: 0.8939\n",
            "Epoch 206/250\n",
            "5/5 [==============================] - 0s 6ms/step - loss: 0.4188 - accuracy: 0.9167\n",
            "Epoch 207/250\n",
            "5/5 [==============================] - 0s 5ms/step - loss: 0.4236 - accuracy: 0.9242\n",
            "Epoch 208/250\n",
            "5/5 [==============================] - 0s 6ms/step - loss: 0.4592 - accuracy: 0.8864\n",
            "Epoch 209/250\n",
            "5/5 [==============================] - 0s 4ms/step - loss: 0.4485 - accuracy: 0.9167\n",
            "Epoch 210/250\n",
            "5/5 [==============================] - 0s 4ms/step - loss: 0.4436 - accuracy: 0.9015\n",
            "Epoch 211/250\n",
            "5/5 [==============================] - 0s 6ms/step - loss: 0.4376 - accuracy: 0.9242\n",
            "Epoch 212/250\n",
            "5/5 [==============================] - 0s 5ms/step - loss: 0.4453 - accuracy: 0.8864\n",
            "Epoch 213/250\n",
            "5/5 [==============================] - 0s 6ms/step - loss: 0.4400 - accuracy: 0.8788\n",
            "Epoch 214/250\n",
            "5/5 [==============================] - 0s 6ms/step - loss: 0.4230 - accuracy: 0.9394\n",
            "Epoch 215/250\n",
            "5/5 [==============================] - 0s 6ms/step - loss: 0.4212 - accuracy: 0.9015\n",
            "Epoch 216/250\n",
            "5/5 [==============================] - 0s 6ms/step - loss: 0.4571 - accuracy: 0.9015\n",
            "Epoch 217/250\n",
            "5/5 [==============================] - 0s 6ms/step - loss: 0.4465 - accuracy: 0.8864\n",
            "Epoch 218/250\n",
            "5/5 [==============================] - 0s 7ms/step - loss: 0.4934 - accuracy: 0.8409\n",
            "Epoch 219/250\n",
            "5/5 [==============================] - 0s 6ms/step - loss: 0.4449 - accuracy: 0.8939\n",
            "Epoch 220/250\n",
            "5/5 [==============================] - 0s 5ms/step - loss: 0.4505 - accuracy: 0.9015\n",
            "Epoch 221/250\n",
            "5/5 [==============================] - 0s 6ms/step - loss: 0.4344 - accuracy: 0.8788\n",
            "Epoch 222/250\n",
            "5/5 [==============================] - 0s 5ms/step - loss: 0.4315 - accuracy: 0.8788\n",
            "Epoch 223/250\n",
            "5/5 [==============================] - 0s 6ms/step - loss: 0.4184 - accuracy: 0.9394\n",
            "Epoch 224/250\n",
            "5/5 [==============================] - 0s 6ms/step - loss: 0.4196 - accuracy: 0.9091\n",
            "Epoch 225/250\n",
            "5/5 [==============================] - 0s 5ms/step - loss: 0.4183 - accuracy: 0.8939\n",
            "Epoch 226/250\n",
            "5/5 [==============================] - 0s 4ms/step - loss: 0.4463 - accuracy: 0.9015\n",
            "Epoch 227/250\n",
            "5/5 [==============================] - 0s 4ms/step - loss: 0.4457 - accuracy: 0.8939\n",
            "Epoch 228/250\n",
            "5/5 [==============================] - 0s 5ms/step - loss: 0.4020 - accuracy: 0.8864\n",
            "Epoch 229/250\n",
            "5/5 [==============================] - 0s 5ms/step - loss: 0.4207 - accuracy: 0.8864\n",
            "Epoch 230/250\n",
            "5/5 [==============================] - 0s 5ms/step - loss: 0.4042 - accuracy: 0.9167\n",
            "Epoch 231/250\n",
            "5/5 [==============================] - 0s 6ms/step - loss: 0.4139 - accuracy: 0.9091\n",
            "Epoch 232/250\n",
            "5/5 [==============================] - 0s 5ms/step - loss: 0.4194 - accuracy: 0.9167\n",
            "Epoch 233/250\n",
            "5/5 [==============================] - 0s 4ms/step - loss: 0.4227 - accuracy: 0.8864\n",
            "Epoch 234/250\n",
            "5/5 [==============================] - 0s 5ms/step - loss: 0.4596 - accuracy: 0.8939\n",
            "Epoch 235/250\n",
            "5/5 [==============================] - 0s 4ms/step - loss: 0.4116 - accuracy: 0.9318\n",
            "Epoch 236/250\n",
            "5/5 [==============================] - 0s 5ms/step - loss: 0.4225 - accuracy: 0.9015\n",
            "Epoch 237/250\n",
            "5/5 [==============================] - 0s 6ms/step - loss: 0.3890 - accuracy: 0.9318\n",
            "Epoch 238/250\n",
            "5/5 [==============================] - 0s 4ms/step - loss: 0.4275 - accuracy: 0.8939\n",
            "Epoch 239/250\n",
            "5/5 [==============================] - 0s 6ms/step - loss: 0.3995 - accuracy: 0.9167\n",
            "Epoch 240/250\n",
            "5/5 [==============================] - 0s 4ms/step - loss: 0.4373 - accuracy: 0.8939\n",
            "Epoch 241/250\n",
            "5/5 [==============================] - 0s 4ms/step - loss: 0.4102 - accuracy: 0.9091\n",
            "Epoch 242/250\n",
            "5/5 [==============================] - 0s 5ms/step - loss: 0.4297 - accuracy: 0.8788\n",
            "Epoch 243/250\n",
            "5/5 [==============================] - 0s 4ms/step - loss: 0.4142 - accuracy: 0.9091\n",
            "Epoch 244/250\n",
            "5/5 [==============================] - 0s 3ms/step - loss: 0.4410 - accuracy: 0.8712\n",
            "Epoch 245/250\n",
            "5/5 [==============================] - 0s 4ms/step - loss: 0.3977 - accuracy: 0.8939\n",
            "Epoch 246/250\n",
            "5/5 [==============================] - 0s 5ms/step - loss: 0.4266 - accuracy: 0.8864\n",
            "Epoch 247/250\n",
            "5/5 [==============================] - 0s 4ms/step - loss: 0.4022 - accuracy: 0.9091\n",
            "Epoch 248/250\n",
            "5/5 [==============================] - 0s 5ms/step - loss: 0.4094 - accuracy: 0.8864\n",
            "Epoch 249/250\n",
            "5/5 [==============================] - 0s 5ms/step - loss: 0.4332 - accuracy: 0.8864\n",
            "Epoch 250/250\n",
            "5/5 [==============================] - 0s 5ms/step - loss: 0.4050 - accuracy: 0.9167\n"
          ]
        }
      ]
    },
    {
      "cell_type": "code",
      "source": [
        "result_test = model.evaluate(X_test_avg, Y_test_one_hot)"
      ],
      "metadata": {
        "colab": {
          "base_uri": "https://localhost:8080/"
        },
        "id": "5dSfNyhoh5lq",
        "outputId": "fdab2a1a-4f16-43ba-e9d5-163e9bfad0bf"
      },
      "execution_count": 96,
      "outputs": [
        {
          "output_type": "stream",
          "name": "stdout",
          "text": [
            "2/2 [==============================] - 0s 7ms/step - loss: 0.5422 - accuracy: 0.8750\n"
          ]
        }
      ]
    },
    {
      "cell_type": "code",
      "source": [
        "my_test = \"I like eating in restaurants\"\n",
        "\n",
        "start = time.time()\n",
        "\n",
        "my_test_avg = sentence_to_avg(my_test)\n",
        "my_test_avg = np.array([my_test_avg])\n",
        "\n",
        "result = model.predict(my_test_avg)\n",
        "\n",
        "y_pred = np.argmax(result)\n",
        "print(label_to_emoji(y_pred))\n",
        "inference_time = (time.time() - start) / 100\n"
      ],
      "metadata": {
        "colab": {
          "base_uri": "https://localhost:8080/"
        },
        "id": "1bIBv11X3rpc",
        "outputId": "4c5cbdc7-4300-47cd-9097-f9ce171ca54d"
      },
      "execution_count": 97,
      "outputs": [
        {
          "output_type": "stream",
          "name": "stdout",
          "text": [
            "1/1 [==============================] - 0s 45ms/step\n",
            "🍴\n"
          ]
        }
      ]
    },
    {
      "cell_type": "code",
      "source": [
        "print(f\"Train loss : \",result_train.history[\"loss\"][249], \",Train accuracy : \",result_train.history[\"accuracy\"][249])\n",
        "print(f\"Test loss : \",result_test[0], \",Test accuracy : \",result_test[1])\n",
        "print(\"inference_time : \", inference_time)"
      ],
      "metadata": {
        "colab": {
          "base_uri": "https://localhost:8080/"
        },
        "id": "eTYDPATV560-",
        "outputId": "9b708fd5-746d-4f18-ed6a-1742ad71d4b2"
      },
      "execution_count": 98,
      "outputs": [
        {
          "output_type": "stream",
          "name": "stdout",
          "text": [
            "Train loss :  0.4049500524997711 ,Train accuracy :  0.9166666865348816\n",
            "Test loss :  0.5422323942184448 ,Test accuracy :  0.875\n",
            "inference_time :  0.001113872528076172\n"
          ]
        }
      ]
    }
  ]
}