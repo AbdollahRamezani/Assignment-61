{
  "cells": [
    {
      "cell_type": "code",
      "execution_count": 1,
      "metadata": {
        "id": "eFMxN8RgYp8h"
      },
      "outputs": [],
      "source": [
        "import tensorflow as tf\n",
        "import numpy as np\n",
        "import pandas as pd\n"
      ]
    },
    {
      "cell_type": "code",
      "execution_count": 2,
      "metadata": {
        "id": "t_Vy2bw9a9hK"
      },
      "outputs": [],
      "source": [
        "def read_csv(file_path):\n",
        "  df = pd.read_csv(file_path)\n",
        "  X = np.array(df[\"sentence\"]) \n",
        "  Y = np.array(df[\"label\"], dtype=int)  \n",
        "  return X, Y\n"
      ]
    },
    {
      "cell_type": "code",
      "execution_count": 3,
      "metadata": {
        "id": "qxVWm7YQcYBJ"
      },
      "outputs": [],
      "source": [
        "X_train, Y_train = read_csv(\"/content/dataset/train.csv\")\n",
        "X_test, Y_test = read_csv(\"/content/dataset/test.csv\")"
      ]
    },
    {
      "cell_type": "code",
      "execution_count": 5,
      "metadata": {
        "colab": {
          "base_uri": "https://localhost:8080/"
        },
        "id": "16jsK92WfNK2",
        "outputId": "f3f9c20d-0795-4fb2-a2ab-34da9af068e7"
      },
      "outputs": [
        {
          "data": {
            "text/plain": [
              "('congratulations on your acceptance', 2)"
            ]
          },
          "execution_count": 5,
          "metadata": {},
          "output_type": "execute_result"
        }
      ],
      "source": [
        "index = 7\n",
        "X_train[index], Y_train[index]"
      ]
    },
    {
      "cell_type": "code",
      "execution_count": 4,
      "metadata": {
        "id": "XJKmOwGTdQGA"
      },
      "outputs": [],
      "source": [
        "def label_to_emoji(label):\n",
        "  emojies = [\"💚\", \"⚽️\", \"😍\", \"😞\", \"🍴\"]\n",
        "  return emojies[label]\n"
      ]
    },
    {
      "cell_type": "code",
      "execution_count": 6,
      "metadata": {
        "colab": {
          "base_uri": "https://localhost:8080/"
        },
        "id": "-wB7uyhCfZN1",
        "outputId": "ccc2b297-6972-41a7-c4e5-368299612fdd"
      },
      "outputs": [
        {
          "data": {
            "text/plain": [
              "('congratulations on your acceptance', '😍')"
            ]
          },
          "execution_count": 6,
          "metadata": {},
          "output_type": "execute_result"
        }
      ],
      "source": [
        "index = 7\n",
        "X_train[index], label_to_emoji(Y_train[index])"
      ]
    },
    {
      "cell_type": "code",
      "execution_count": 10,
      "metadata": {
        "colab": {
          "base_uri": "https://localhost:8080/"
        },
        "id": "TdZy8GXplGEE",
        "outputId": "b5869378-dcf2-4da1-c35f-cee2e45476a4"
      },
      "outputs": [
        {
          "name": "stdout",
          "output_type": "stream",
          "text": [
            "[0 1 2 3 4]\n",
            "[22 19 38 36 17]\n"
          ]
        }
      ],
      "source": [
        "unique, counts = np.unique(Y_train, return_counts=True)\n",
        "print(unique)  \n",
        "print(counts)  "
      ]
    },
    {
      "cell_type": "code",
      "execution_count": 11,
      "metadata": {
        "colab": {
          "base_uri": "https://localhost:8080/",
          "height": 35
        },
        "id": "j-syArpkooMF",
        "outputId": "57d27c35-0c62-403d-8e22-00566e88e751"
      },
      "outputs": [
        {
          "data": {
            "application/vnd.google.colaboratory.intrinsic+json": {
              "type": "string"
            },
            "text/plain": [
              "'I am so impressed by your dedication to this project'"
            ]
          },
          "execution_count": 11,
          "metadata": {},
          "output_type": "execute_result"
        }
      ],
      "source": [
        "max(X_train, key=len)    "
      ]
    },
    {
      "cell_type": "code",
      "execution_count": 12,
      "metadata": {
        "colab": {
          "base_uri": "https://localhost:8080/"
        },
        "id": "l2vC6t2EphX9",
        "outputId": "075af45e-2b69-42d0-b669-4fceeefbcc8b"
      },
      "outputs": [
        {
          "data": {
            "text/plain": [
              "['I',\n",
              " 'am',\n",
              " 'so',\n",
              " 'impressed',\n",
              " 'by',\n",
              " 'your',\n",
              " 'dedication',\n",
              " 'to',\n",
              " 'this',\n",
              " 'project']"
            ]
          },
          "execution_count": 12,
          "metadata": {},
          "output_type": "execute_result"
        }
      ],
      "source": [
        "max(X_train, key=len).split(\" \")  "
      ]
    },
    {
      "cell_type": "code",
      "execution_count": 16,
      "metadata": {
        "colab": {
          "base_uri": "https://localhost:8080/"
        },
        "id": "sOANrg9lp3uu",
        "outputId": "d589cef7-5af7-4716-d768-bad4f3435a85"
      },
      "outputs": [
        {
          "data": {
            "text/plain": [
              "10"
            ]
          },
          "execution_count": 16,
          "metadata": {},
          "output_type": "execute_result"
        }
      ],
      "source": [
        "max_len = len(max(X_train, key=len).split(\" \"))  \n",
        "max_len"
      ]
    },
    {
      "cell_type": "code",
      "execution_count": 17,
      "metadata": {
        "colab": {
          "base_uri": "https://localhost:8080/"
        },
        "id": "5rvTf0WYzFwq",
        "outputId": "9d47860b-7ac2-4942-acc3-dcd5b25264c7"
      },
      "outputs": [
        {
          "name": "stdout",
          "output_type": "stream",
          "text": [
            "--2024-01-26 22:03:51--  https://nlp.stanford.edu/data/glove.6B.zip\n",
            "Resolving nlp.stanford.edu (nlp.stanford.edu)... 171.64.67.140\n",
            "Connecting to nlp.stanford.edu (nlp.stanford.edu)|171.64.67.140|:443... connected.\n",
            "HTTP request sent, awaiting response... 301 Moved Permanently\n",
            "Location: https://downloads.cs.stanford.edu/nlp/data/glove.6B.zip [following]\n",
            "--2024-01-26 22:03:52--  https://downloads.cs.stanford.edu/nlp/data/glove.6B.zip\n",
            "Resolving downloads.cs.stanford.edu (downloads.cs.stanford.edu)... 171.64.64.22\n",
            "Connecting to downloads.cs.stanford.edu (downloads.cs.stanford.edu)|171.64.64.22|:443... connected.\n",
            "HTTP request sent, awaiting response... 200 OK\n",
            "Length: 862182613 (822M) [application/zip]\n",
            "Saving to: ‘glove.6B.zip’\n",
            "\n",
            "glove.6B.zip        100%[===================>] 822.24M  5.15MB/s    in 2m 39s  \n",
            "\n",
            "2024-01-26 22:06:31 (5.18 MB/s) - ‘glove.6B.zip’ saved [862182613/862182613]\n",
            "\n"
          ]
        }
      ],
      "source": [
        "!wget https://nlp.stanford.edu/data/glove.6B.zip  "
      ]
    },
    {
      "cell_type": "code",
      "execution_count": 18,
      "metadata": {
        "id": "YKFhcCxY3736"
      },
      "outputs": [],
      "source": [
        "!unzip -q glove.6B -d glove.6B "
      ]
    },
    {
      "cell_type": "code",
      "execution_count": 28,
      "metadata": {
        "id": "QKRrXzSx58ez"
      },
      "outputs": [],
      "source": [
        "f = open(\"/content/glove.6B/glove.6B.50d.txt\", encoding=\"utf-8\")  "
      ]
    },
    {
      "cell_type": "code",
      "execution_count": 29,
      "metadata": {
        "id": "oZ3p1SLg7Grg"
      },
      "outputs": [],
      "source": [
        "word_vectors = {}\n",
        "\n",
        "for line in f:\n",
        "  line = line.strip().split()\n",
        "  word = line[0]\n",
        "  vector = np.array(line[1:], dtype=np.float64)  \n",
        "  word_vectors[word] = vector"
      ]
    },
    {
      "cell_type": "code",
      "execution_count": 31,
      "metadata": {
        "colab": {
          "base_uri": "https://localhost:8080/"
        },
        "id": "86YjX4KGBrpI",
        "outputId": "f178b2bb-a724-4c44-ae92-fa5ffa49ddc5"
      },
      "outputs": [
        {
          "data": {
            "text/plain": [
              "array([ 0.49251 , -0.24279 , -0.49748 ,  0.28443 ,  0.16984 ,  0.61016 ,\n",
              "        0.20294 , -0.19734 ,  0.93474 , -0.11809 , -0.26342 ,  0.97142 ,\n",
              "        1.0427  ,  0.60017 , -0.46936 ,  0.10087 ,  0.60649 ,  1.1277  ,\n",
              "       -1.1823  , -0.29334 , -0.72885 , -0.46904 ,  1.1104  ,  0.27504 ,\n",
              "        0.48043 , -1.3031  , -0.58713 ,  0.90264 ,  0.089552, -0.60348 ,\n",
              "        1.1117  , -0.85367 , -0.13902 ,  0.87767 , -0.19307 ,  0.10299 ,\n",
              "       -0.83688 , -0.87202 ,  0.46529 , -0.22325 , -0.49207 ,  0.33727 ,\n",
              "       -0.49699 ,  0.95006 ,  0.75007 , -0.21252 ,  0.47244 , -1.4552  ,\n",
              "        0.11704 , -0.61483 ])"
            ]
          },
          "execution_count": 31,
          "metadata": {},
          "output_type": "execute_result"
        }
      ],
      "source": [
        "word_vectors[\"snake\"]"
      ]
    },
    {
      "cell_type": "code",
      "execution_count": 40,
      "metadata": {
        "id": "MUkW1YvhGg0n"
      },
      "outputs": [],
      "source": [
        "def sentence_to_avg(sentence): \n",
        "  try:\n",
        "    sentence = sentence.lower()  \n",
        "    words = sentence.strip().split(\" \")\n",
        "\n",
        "    sum_vectors = np.zeros((50, ))\n",
        "    for word in words:\n",
        "      sum_vectors += word_vectors[word]\n",
        "\n",
        "    avg_vector = sum_vectors / len(words)\n",
        "    return avg_vector\n",
        "  except:\n",
        "    print(\"نتوانستم\")\n",
        "    return None\n",
        "\n"
      ]
    },
    {
      "cell_type": "code",
      "execution_count": 41,
      "metadata": {
        "colab": {
          "base_uri": "https://localhost:8080/"
        },
        "id": "dWG_ZKtrJswI",
        "outputId": "5d585664-3c62-469f-df58-8939e058e9f0"
      },
      "outputs": [
        {
          "data": {
            "text/plain": [
              "array([ 0.157256  ,  0.1669862 , -0.188816  , -0.27733   ,  0.316686  ,\n",
              "        0.2276832 , -0.442016  , -0.19912792, -0.528786  ,  0.58095151,\n",
              "       -0.099434  ,  0.543644  , -0.400818  , -0.0196456 ,  0.6553478 ,\n",
              "        0.357032  ,  0.110736  ,  0.3904726 , -0.015683  , -0.5693798 ,\n",
              "       -0.11808   ,  0.662674  ,  0.50238   ,  0.380024  ,  0.798924  ,\n",
              "       -1.542946  , -0.8024376 ,  0.265944  ,  0.838432  , -0.497945  ,\n",
              "        3.32178   ,  0.516902  , -0.0628614 , -0.236668  , -0.1666506 ,\n",
              "       -0.104354  , -0.144238  ,  0.238698  , -0.116562  , -0.335334  ,\n",
              "        0.00965334,  0.2257584 , -0.261848  ,  0.44801   , -0.2448288 ,\n",
              "        0.1346956 ,  0.0192128 , -0.21776632, -0.28343   ,  0.698352  ])"
            ]
          },
          "execution_count": 41,
          "metadata": {},
          "output_type": "execute_result"
        }
      ],
      "source": [
        "sentence_to_avg(\"i love programming too much\")"
      ]
    },
    {
      "cell_type": "code",
      "execution_count": 43,
      "metadata": {
        "colab": {
          "base_uri": "https://localhost:8080/"
        },
        "id": "KemmBHbGLA04",
        "outputId": "a0de1895-fa4b-447e-a5ce-4916613bb9b1"
      },
      "outputs": [
        {
          "data": {
            "text/plain": [
              "(132, 50)"
            ]
          },
          "execution_count": 43,
          "metadata": {},
          "output_type": "execute_result"
        }
      ],
      "source": [
        "X_train_avg = []\n",
        "\n",
        "for x_train in X_train:\n",
        "  X_train_avg.append(sentence_to_avg(x_train))\n",
        "\n",
        "X_train_avg = np.array(X_train_avg)  \n",
        "\n",
        "X_train_avg.shape"
      ]
    },
    {
      "cell_type": "code",
      "execution_count": null,
      "metadata": {
        "id": "Z04I0y_yPaTB"
      },
      "outputs": [],
      "source": [
        "Y_train_one_hot = tf.keras.utils.to_categorical(Y_train, num_classes=5)\n",
        "Y_train_one_hot"
      ]
    },
    {
      "cell_type": "code",
      "execution_count": 47,
      "metadata": {
        "id": "cQkxYTwiQm3O"
      },
      "outputs": [],
      "source": [
        "model = tf.keras.models.Sequential([\n",
        "    tf.keras.layers.Dense(5, input_shape=(50,), activation=\"softmax\")\n",
        "])"
      ]
    },
    {
      "cell_type": "code",
      "execution_count": 48,
      "metadata": {
        "id": "f3qolCoxRevQ"
      },
      "outputs": [],
      "source": [
        "model.compile(\n",
        "    optimizer=tf.keras.optimizers.Adam(),\n",
        "    loss=\"categorical_crossentropy\",\n",
        "    metrics=[\"accuracy\"]\n",
        ")"
      ]
    },
    {
      "cell_type": "code",
      "execution_count": 50,
      "metadata": {
        "colab": {
          "base_uri": "https://localhost:8080/"
        },
        "id": "QHTEsUkwSVmi",
        "outputId": "c8ee374d-3737-47ae-f530-1e7628b8e0f9"
      },
      "outputs": [
        {
          "name": "stdout",
          "output_type": "stream",
          "text": [
            "Epoch 1/250\n",
            "5/5 [==============================] - 0s 4ms/step - loss: 0.7842 - accuracy: 0.7652\n",
            "Epoch 2/250\n",
            "5/5 [==============================] - 0s 4ms/step - loss: 0.7827 - accuracy: 0.7576\n",
            "Epoch 3/250\n",
            "5/5 [==============================] - 0s 4ms/step - loss: 0.7810 - accuracy: 0.7652\n",
            "Epoch 4/250\n",
            "5/5 [==============================] - 0s 4ms/step - loss: 0.7794 - accuracy: 0.7727\n",
            "Epoch 5/250\n",
            "5/5 [==============================] - 0s 4ms/step - loss: 0.7782 - accuracy: 0.7727\n",
            "Epoch 6/250\n",
            "5/5 [==============================] - 0s 4ms/step - loss: 0.7767 - accuracy: 0.7727\n",
            "Epoch 7/250\n",
            "5/5 [==============================] - 0s 4ms/step - loss: 0.7747 - accuracy: 0.7803\n",
            "Epoch 8/250\n",
            "5/5 [==============================] - 0s 4ms/step - loss: 0.7726 - accuracy: 0.7803\n",
            "Epoch 9/250\n",
            "5/5 [==============================] - 0s 3ms/step - loss: 0.7708 - accuracy: 0.7803\n",
            "Epoch 10/250\n",
            "5/5 [==============================] - 0s 3ms/step - loss: 0.7697 - accuracy: 0.7803\n",
            "Epoch 11/250\n",
            "5/5 [==============================] - 0s 4ms/step - loss: 0.7673 - accuracy: 0.7727\n",
            "Epoch 12/250\n",
            "5/5 [==============================] - 0s 4ms/step - loss: 0.7658 - accuracy: 0.7803\n",
            "Epoch 13/250\n",
            "5/5 [==============================] - 0s 4ms/step - loss: 0.7638 - accuracy: 0.7879\n",
            "Epoch 14/250\n",
            "5/5 [==============================] - 0s 4ms/step - loss: 0.7621 - accuracy: 0.7803\n",
            "Epoch 15/250\n",
            "5/5 [==============================] - 0s 4ms/step - loss: 0.7603 - accuracy: 0.7803\n",
            "Epoch 16/250\n",
            "5/5 [==============================] - 0s 4ms/step - loss: 0.7586 - accuracy: 0.7803\n",
            "Epoch 17/250\n",
            "5/5 [==============================] - 0s 4ms/step - loss: 0.7568 - accuracy: 0.7879\n",
            "Epoch 18/250\n",
            "5/5 [==============================] - 0s 4ms/step - loss: 0.7553 - accuracy: 0.7955\n",
            "Epoch 19/250\n",
            "5/5 [==============================] - 0s 4ms/step - loss: 0.7541 - accuracy: 0.8030\n",
            "Epoch 20/250\n",
            "5/5 [==============================] - 0s 4ms/step - loss: 0.7524 - accuracy: 0.8030\n",
            "Epoch 21/250\n",
            "5/5 [==============================] - 0s 4ms/step - loss: 0.7508 - accuracy: 0.7955\n",
            "Epoch 22/250\n",
            "5/5 [==============================] - 0s 4ms/step - loss: 0.7494 - accuracy: 0.7955\n",
            "Epoch 23/250\n",
            "5/5 [==============================] - 0s 4ms/step - loss: 0.7477 - accuracy: 0.7955\n",
            "Epoch 24/250\n",
            "5/5 [==============================] - 0s 4ms/step - loss: 0.7463 - accuracy: 0.8030\n",
            "Epoch 25/250\n",
            "5/5 [==============================] - 0s 4ms/step - loss: 0.7452 - accuracy: 0.8030\n",
            "Epoch 26/250\n",
            "5/5 [==============================] - 0s 4ms/step - loss: 0.7437 - accuracy: 0.8030\n",
            "Epoch 27/250\n",
            "5/5 [==============================] - 0s 4ms/step - loss: 0.7419 - accuracy: 0.8030\n",
            "Epoch 28/250\n",
            "5/5 [==============================] - 0s 5ms/step - loss: 0.7407 - accuracy: 0.8030\n",
            "Epoch 29/250\n",
            "5/5 [==============================] - 0s 4ms/step - loss: 0.7392 - accuracy: 0.8030\n",
            "Epoch 30/250\n",
            "5/5 [==============================] - 0s 5ms/step - loss: 0.7376 - accuracy: 0.8030\n",
            "Epoch 31/250\n",
            "5/5 [==============================] - 0s 4ms/step - loss: 0.7363 - accuracy: 0.7955\n",
            "Epoch 32/250\n",
            "5/5 [==============================] - 0s 4ms/step - loss: 0.7344 - accuracy: 0.7955\n",
            "Epoch 33/250\n",
            "5/5 [==============================] - 0s 4ms/step - loss: 0.7327 - accuracy: 0.8106\n",
            "Epoch 34/250\n",
            "5/5 [==============================] - 0s 4ms/step - loss: 0.7312 - accuracy: 0.8106\n",
            "Epoch 35/250\n",
            "5/5 [==============================] - 0s 4ms/step - loss: 0.7294 - accuracy: 0.7955\n",
            "Epoch 36/250\n",
            "5/5 [==============================] - 0s 4ms/step - loss: 0.7282 - accuracy: 0.8182\n",
            "Epoch 37/250\n",
            "5/5 [==============================] - 0s 4ms/step - loss: 0.7267 - accuracy: 0.8182\n",
            "Epoch 38/250\n",
            "5/5 [==============================] - 0s 4ms/step - loss: 0.7254 - accuracy: 0.8182\n",
            "Epoch 39/250\n",
            "5/5 [==============================] - 0s 4ms/step - loss: 0.7235 - accuracy: 0.8182\n",
            "Epoch 40/250\n",
            "5/5 [==============================] - 0s 4ms/step - loss: 0.7222 - accuracy: 0.8030\n",
            "Epoch 41/250\n",
            "5/5 [==============================] - 0s 4ms/step - loss: 0.7209 - accuracy: 0.8030\n",
            "Epoch 42/250\n",
            "5/5 [==============================] - 0s 4ms/step - loss: 0.7193 - accuracy: 0.8030\n",
            "Epoch 43/250\n",
            "5/5 [==============================] - 0s 4ms/step - loss: 0.7178 - accuracy: 0.8030\n",
            "Epoch 44/250\n",
            "5/5 [==============================] - 0s 4ms/step - loss: 0.7165 - accuracy: 0.8182\n",
            "Epoch 45/250\n",
            "5/5 [==============================] - 0s 4ms/step - loss: 0.7153 - accuracy: 0.8182\n",
            "Epoch 46/250\n",
            "5/5 [==============================] - 0s 4ms/step - loss: 0.7137 - accuracy: 0.8182\n",
            "Epoch 47/250\n",
            "5/5 [==============================] - 0s 5ms/step - loss: 0.7122 - accuracy: 0.8182\n",
            "Epoch 48/250\n",
            "5/5 [==============================] - 0s 4ms/step - loss: 0.7108 - accuracy: 0.8182\n",
            "Epoch 49/250\n",
            "5/5 [==============================] - 0s 4ms/step - loss: 0.7096 - accuracy: 0.8182\n",
            "Epoch 50/250\n",
            "5/5 [==============================] - 0s 4ms/step - loss: 0.7092 - accuracy: 0.8182\n",
            "Epoch 51/250\n",
            "5/5 [==============================] - 0s 4ms/step - loss: 0.7077 - accuracy: 0.8182\n",
            "Epoch 52/250\n",
            "5/5 [==============================] - 0s 4ms/step - loss: 0.7064 - accuracy: 0.8258\n",
            "Epoch 53/250\n",
            "5/5 [==============================] - 0s 4ms/step - loss: 0.7048 - accuracy: 0.8258\n",
            "Epoch 54/250\n",
            "5/5 [==============================] - 0s 4ms/step - loss: 0.7030 - accuracy: 0.8409\n",
            "Epoch 55/250\n",
            "5/5 [==============================] - 0s 4ms/step - loss: 0.7017 - accuracy: 0.8258\n",
            "Epoch 56/250\n",
            "5/5 [==============================] - 0s 4ms/step - loss: 0.6999 - accuracy: 0.8258\n",
            "Epoch 57/250\n",
            "5/5 [==============================] - 0s 4ms/step - loss: 0.6990 - accuracy: 0.8333\n",
            "Epoch 58/250\n",
            "5/5 [==============================] - 0s 4ms/step - loss: 0.6976 - accuracy: 0.8258\n",
            "Epoch 59/250\n",
            "5/5 [==============================] - 0s 4ms/step - loss: 0.6961 - accuracy: 0.8258\n",
            "Epoch 60/250\n",
            "5/5 [==============================] - 0s 4ms/step - loss: 0.6946 - accuracy: 0.8333\n",
            "Epoch 61/250\n",
            "5/5 [==============================] - 0s 4ms/step - loss: 0.6933 - accuracy: 0.8258\n",
            "Epoch 62/250\n",
            "5/5 [==============================] - 0s 3ms/step - loss: 0.6921 - accuracy: 0.8333\n",
            "Epoch 63/250\n",
            "5/5 [==============================] - 0s 4ms/step - loss: 0.6904 - accuracy: 0.8409\n",
            "Epoch 64/250\n",
            "5/5 [==============================] - 0s 3ms/step - loss: 0.6894 - accuracy: 0.8409\n",
            "Epoch 65/250\n",
            "5/5 [==============================] - 0s 4ms/step - loss: 0.6880 - accuracy: 0.8409\n",
            "Epoch 66/250\n",
            "5/5 [==============================] - 0s 4ms/step - loss: 0.6871 - accuracy: 0.8409\n",
            "Epoch 67/250\n",
            "5/5 [==============================] - 0s 4ms/step - loss: 0.6858 - accuracy: 0.8485\n",
            "Epoch 68/250\n",
            "5/5 [==============================] - 0s 5ms/step - loss: 0.6844 - accuracy: 0.8485\n",
            "Epoch 69/250\n",
            "5/5 [==============================] - 0s 4ms/step - loss: 0.6832 - accuracy: 0.8561\n",
            "Epoch 70/250\n",
            "5/5 [==============================] - 0s 4ms/step - loss: 0.6820 - accuracy: 0.8561\n",
            "Epoch 71/250\n",
            "5/5 [==============================] - 0s 4ms/step - loss: 0.6807 - accuracy: 0.8561\n",
            "Epoch 72/250\n",
            "5/5 [==============================] - 0s 4ms/step - loss: 0.6795 - accuracy: 0.8485\n",
            "Epoch 73/250\n",
            "5/5 [==============================] - 0s 4ms/step - loss: 0.6783 - accuracy: 0.8485\n",
            "Epoch 74/250\n",
            "5/5 [==============================] - 0s 4ms/step - loss: 0.6769 - accuracy: 0.8561\n",
            "Epoch 75/250\n",
            "5/5 [==============================] - 0s 4ms/step - loss: 0.6760 - accuracy: 0.8333\n",
            "Epoch 76/250\n",
            "5/5 [==============================] - 0s 4ms/step - loss: 0.6748 - accuracy: 0.8409\n",
            "Epoch 77/250\n",
            "5/5 [==============================] - 0s 4ms/step - loss: 0.6737 - accuracy: 0.8409\n",
            "Epoch 78/250\n",
            "5/5 [==============================] - 0s 4ms/step - loss: 0.6727 - accuracy: 0.8333\n",
            "Epoch 79/250\n",
            "5/5 [==============================] - 0s 4ms/step - loss: 0.6709 - accuracy: 0.8333\n",
            "Epoch 80/250\n",
            "5/5 [==============================] - 0s 4ms/step - loss: 0.6697 - accuracy: 0.8333\n",
            "Epoch 81/250\n",
            "5/5 [==============================] - 0s 4ms/step - loss: 0.6685 - accuracy: 0.8333\n",
            "Epoch 82/250\n",
            "5/5 [==============================] - 0s 4ms/step - loss: 0.6671 - accuracy: 0.8333\n",
            "Epoch 83/250\n",
            "5/5 [==============================] - 0s 4ms/step - loss: 0.6660 - accuracy: 0.8409\n",
            "Epoch 84/250\n",
            "5/5 [==============================] - 0s 4ms/step - loss: 0.6648 - accuracy: 0.8409\n",
            "Epoch 85/250\n",
            "5/5 [==============================] - 0s 4ms/step - loss: 0.6640 - accuracy: 0.8485\n",
            "Epoch 86/250\n",
            "5/5 [==============================] - 0s 5ms/step - loss: 0.6626 - accuracy: 0.8485\n",
            "Epoch 87/250\n",
            "5/5 [==============================] - 0s 4ms/step - loss: 0.6621 - accuracy: 0.8409\n",
            "Epoch 88/250\n",
            "5/5 [==============================] - 0s 4ms/step - loss: 0.6609 - accuracy: 0.8409\n",
            "Epoch 89/250\n",
            "5/5 [==============================] - 0s 4ms/step - loss: 0.6598 - accuracy: 0.8409\n",
            "Epoch 90/250\n",
            "5/5 [==============================] - 0s 4ms/step - loss: 0.6582 - accuracy: 0.8409\n",
            "Epoch 91/250\n",
            "5/5 [==============================] - 0s 4ms/step - loss: 0.6573 - accuracy: 0.8485\n",
            "Epoch 92/250\n",
            "5/5 [==============================] - 0s 4ms/step - loss: 0.6562 - accuracy: 0.8409\n",
            "Epoch 93/250\n",
            "5/5 [==============================] - 0s 4ms/step - loss: 0.6551 - accuracy: 0.8485\n",
            "Epoch 94/250\n",
            "5/5 [==============================] - 0s 4ms/step - loss: 0.6539 - accuracy: 0.8409\n",
            "Epoch 95/250\n",
            "5/5 [==============================] - 0s 5ms/step - loss: 0.6526 - accuracy: 0.8409\n",
            "Epoch 96/250\n",
            "5/5 [==============================] - 0s 4ms/step - loss: 0.6515 - accuracy: 0.8485\n",
            "Epoch 97/250\n",
            "5/5 [==============================] - 0s 4ms/step - loss: 0.6506 - accuracy: 0.8485\n",
            "Epoch 98/250\n",
            "5/5 [==============================] - 0s 4ms/step - loss: 0.6496 - accuracy: 0.8485\n",
            "Epoch 99/250\n",
            "5/5 [==============================] - 0s 4ms/step - loss: 0.6485 - accuracy: 0.8485\n",
            "Epoch 100/250\n",
            "5/5 [==============================] - 0s 4ms/step - loss: 0.6473 - accuracy: 0.8333\n",
            "Epoch 101/250\n",
            "5/5 [==============================] - 0s 4ms/step - loss: 0.6465 - accuracy: 0.8409\n",
            "Epoch 102/250\n",
            "5/5 [==============================] - 0s 3ms/step - loss: 0.6456 - accuracy: 0.8409\n",
            "Epoch 103/250\n",
            "5/5 [==============================] - 0s 4ms/step - loss: 0.6444 - accuracy: 0.8182\n",
            "Epoch 104/250\n",
            "5/5 [==============================] - 0s 4ms/step - loss: 0.6435 - accuracy: 0.8258\n",
            "Epoch 105/250\n",
            "5/5 [==============================] - 0s 4ms/step - loss: 0.6421 - accuracy: 0.8258\n",
            "Epoch 106/250\n",
            "5/5 [==============================] - 0s 4ms/step - loss: 0.6408 - accuracy: 0.8636\n",
            "Epoch 107/250\n",
            "5/5 [==============================] - 0s 5ms/step - loss: 0.6399 - accuracy: 0.8561\n",
            "Epoch 108/250\n",
            "5/5 [==============================] - 0s 5ms/step - loss: 0.6388 - accuracy: 0.8636\n",
            "Epoch 109/250\n",
            "5/5 [==============================] - 0s 4ms/step - loss: 0.6380 - accuracy: 0.8636\n",
            "Epoch 110/250\n",
            "5/5 [==============================] - 0s 5ms/step - loss: 0.6368 - accuracy: 0.8561\n",
            "Epoch 111/250\n",
            "5/5 [==============================] - 0s 4ms/step - loss: 0.6357 - accuracy: 0.8561\n",
            "Epoch 112/250\n",
            "5/5 [==============================] - 0s 4ms/step - loss: 0.6348 - accuracy: 0.8561\n",
            "Epoch 113/250\n",
            "5/5 [==============================] - 0s 4ms/step - loss: 0.6338 - accuracy: 0.8561\n",
            "Epoch 114/250\n",
            "5/5 [==============================] - 0s 4ms/step - loss: 0.6330 - accuracy: 0.8561\n",
            "Epoch 115/250\n",
            "5/5 [==============================] - 0s 4ms/step - loss: 0.6317 - accuracy: 0.8485\n",
            "Epoch 116/250\n",
            "5/5 [==============================] - 0s 4ms/step - loss: 0.6307 - accuracy: 0.8485\n",
            "Epoch 117/250\n",
            "5/5 [==============================] - 0s 4ms/step - loss: 0.6293 - accuracy: 0.8485\n",
            "Epoch 118/250\n",
            "5/5 [==============================] - 0s 4ms/step - loss: 0.6287 - accuracy: 0.8561\n",
            "Epoch 119/250\n",
            "5/5 [==============================] - 0s 4ms/step - loss: 0.6274 - accuracy: 0.8636\n",
            "Epoch 120/250\n",
            "5/5 [==============================] - 0s 4ms/step - loss: 0.6259 - accuracy: 0.8636\n",
            "Epoch 121/250\n",
            "5/5 [==============================] - 0s 4ms/step - loss: 0.6254 - accuracy: 0.8561\n",
            "Epoch 122/250\n",
            "5/5 [==============================] - 0s 4ms/step - loss: 0.6249 - accuracy: 0.8561\n",
            "Epoch 123/250\n",
            "5/5 [==============================] - 0s 4ms/step - loss: 0.6243 - accuracy: 0.8636\n",
            "Epoch 124/250\n",
            "5/5 [==============================] - 0s 4ms/step - loss: 0.6232 - accuracy: 0.8636\n",
            "Epoch 125/250\n",
            "5/5 [==============================] - 0s 4ms/step - loss: 0.6224 - accuracy: 0.8636\n",
            "Epoch 126/250\n",
            "5/5 [==============================] - 0s 4ms/step - loss: 0.6217 - accuracy: 0.8636\n",
            "Epoch 127/250\n",
            "5/5 [==============================] - 0s 4ms/step - loss: 0.6205 - accuracy: 0.8561\n",
            "Epoch 128/250\n",
            "5/5 [==============================] - 0s 4ms/step - loss: 0.6191 - accuracy: 0.8561\n",
            "Epoch 129/250\n",
            "5/5 [==============================] - 0s 4ms/step - loss: 0.6179 - accuracy: 0.8561\n",
            "Epoch 130/250\n",
            "5/5 [==============================] - 0s 4ms/step - loss: 0.6171 - accuracy: 0.8561\n",
            "Epoch 131/250\n",
            "5/5 [==============================] - 0s 4ms/step - loss: 0.6159 - accuracy: 0.8636\n",
            "Epoch 132/250\n",
            "5/5 [==============================] - 0s 4ms/step - loss: 0.6150 - accuracy: 0.8409\n",
            "Epoch 133/250\n",
            "5/5 [==============================] - 0s 4ms/step - loss: 0.6141 - accuracy: 0.8409\n",
            "Epoch 134/250\n",
            "5/5 [==============================] - 0s 4ms/step - loss: 0.6131 - accuracy: 0.8485\n",
            "Epoch 135/250\n",
            "5/5 [==============================] - 0s 5ms/step - loss: 0.6119 - accuracy: 0.8561\n",
            "Epoch 136/250\n",
            "5/5 [==============================] - 0s 4ms/step - loss: 0.6113 - accuracy: 0.8561\n",
            "Epoch 137/250\n",
            "5/5 [==============================] - 0s 4ms/step - loss: 0.6099 - accuracy: 0.8561\n",
            "Epoch 138/250\n",
            "5/5 [==============================] - 0s 4ms/step - loss: 0.6094 - accuracy: 0.8636\n",
            "Epoch 139/250\n",
            "5/5 [==============================] - 0s 4ms/step - loss: 0.6079 - accuracy: 0.8561\n",
            "Epoch 140/250\n",
            "5/5 [==============================] - 0s 4ms/step - loss: 0.6070 - accuracy: 0.8561\n",
            "Epoch 141/250\n",
            "5/5 [==============================] - 0s 4ms/step - loss: 0.6061 - accuracy: 0.8561\n",
            "Epoch 142/250\n",
            "5/5 [==============================] - 0s 4ms/step - loss: 0.6050 - accuracy: 0.8561\n",
            "Epoch 143/250\n",
            "5/5 [==============================] - 0s 4ms/step - loss: 0.6043 - accuracy: 0.8636\n",
            "Epoch 144/250\n",
            "5/5 [==============================] - 0s 4ms/step - loss: 0.6033 - accuracy: 0.8636\n",
            "Epoch 145/250\n",
            "5/5 [==============================] - 0s 4ms/step - loss: 0.6035 - accuracy: 0.8561\n",
            "Epoch 146/250\n",
            "5/5 [==============================] - 0s 4ms/step - loss: 0.6024 - accuracy: 0.8561\n",
            "Epoch 147/250\n",
            "5/5 [==============================] - 0s 5ms/step - loss: 0.6010 - accuracy: 0.8561\n",
            "Epoch 148/250\n",
            "5/5 [==============================] - 0s 4ms/step - loss: 0.5998 - accuracy: 0.8485\n",
            "Epoch 149/250\n",
            "5/5 [==============================] - 0s 6ms/step - loss: 0.5991 - accuracy: 0.8561\n",
            "Epoch 150/250\n",
            "5/5 [==============================] - 0s 6ms/step - loss: 0.5986 - accuracy: 0.8561\n",
            "Epoch 151/250\n",
            "5/5 [==============================] - 0s 6ms/step - loss: 0.5982 - accuracy: 0.8561\n",
            "Epoch 152/250\n",
            "5/5 [==============================] - 0s 6ms/step - loss: 0.5978 - accuracy: 0.8485\n",
            "Epoch 153/250\n",
            "5/5 [==============================] - 0s 5ms/step - loss: 0.5969 - accuracy: 0.8485\n",
            "Epoch 154/250\n",
            "5/5 [==============================] - 0s 6ms/step - loss: 0.5956 - accuracy: 0.8561\n",
            "Epoch 155/250\n",
            "5/5 [==============================] - 0s 5ms/step - loss: 0.5942 - accuracy: 0.8561\n",
            "Epoch 156/250\n",
            "5/5 [==============================] - 0s 5ms/step - loss: 0.5928 - accuracy: 0.8485\n",
            "Epoch 157/250\n",
            "5/5 [==============================] - 0s 6ms/step - loss: 0.5913 - accuracy: 0.8712\n",
            "Epoch 158/250\n",
            "5/5 [==============================] - 0s 5ms/step - loss: 0.5905 - accuracy: 0.8561\n",
            "Epoch 159/250\n",
            "5/5 [==============================] - 0s 6ms/step - loss: 0.5903 - accuracy: 0.8561\n",
            "Epoch 160/250\n",
            "5/5 [==============================] - 0s 6ms/step - loss: 0.5894 - accuracy: 0.8561\n",
            "Epoch 161/250\n",
            "5/5 [==============================] - 0s 6ms/step - loss: 0.5885 - accuracy: 0.8561\n",
            "Epoch 162/250\n",
            "5/5 [==============================] - 0s 5ms/step - loss: 0.5878 - accuracy: 0.8561\n",
            "Epoch 163/250\n",
            "5/5 [==============================] - 0s 6ms/step - loss: 0.5871 - accuracy: 0.8485\n",
            "Epoch 164/250\n",
            "5/5 [==============================] - 0s 6ms/step - loss: 0.5861 - accuracy: 0.8561\n",
            "Epoch 165/250\n",
            "5/5 [==============================] - 0s 6ms/step - loss: 0.5849 - accuracy: 0.8712\n",
            "Epoch 166/250\n",
            "5/5 [==============================] - 0s 5ms/step - loss: 0.5837 - accuracy: 0.8636\n",
            "Epoch 167/250\n",
            "5/5 [==============================] - 0s 5ms/step - loss: 0.5829 - accuracy: 0.8561\n",
            "Epoch 168/250\n",
            "5/5 [==============================] - 0s 5ms/step - loss: 0.5821 - accuracy: 0.8561\n",
            "Epoch 169/250\n",
            "5/5 [==============================] - 0s 5ms/step - loss: 0.5812 - accuracy: 0.8561\n",
            "Epoch 170/250\n",
            "5/5 [==============================] - 0s 5ms/step - loss: 0.5807 - accuracy: 0.8636\n",
            "Epoch 171/250\n",
            "5/5 [==============================] - 0s 5ms/step - loss: 0.5794 - accuracy: 0.8712\n",
            "Epoch 172/250\n",
            "5/5 [==============================] - 0s 4ms/step - loss: 0.5788 - accuracy: 0.8712\n",
            "Epoch 173/250\n",
            "5/5 [==============================] - 0s 5ms/step - loss: 0.5778 - accuracy: 0.8561\n",
            "Epoch 174/250\n",
            "5/5 [==============================] - 0s 5ms/step - loss: 0.5771 - accuracy: 0.8636\n",
            "Epoch 175/250\n",
            "5/5 [==============================] - 0s 5ms/step - loss: 0.5765 - accuracy: 0.8636\n",
            "Epoch 176/250\n",
            "5/5 [==============================] - 0s 5ms/step - loss: 0.5758 - accuracy: 0.8636\n",
            "Epoch 177/250\n",
            "5/5 [==============================] - 0s 5ms/step - loss: 0.5750 - accuracy: 0.8636\n",
            "Epoch 178/250\n",
            "5/5 [==============================] - 0s 6ms/step - loss: 0.5743 - accuracy: 0.8636\n",
            "Epoch 179/250\n",
            "5/5 [==============================] - 0s 6ms/step - loss: 0.5735 - accuracy: 0.8636\n",
            "Epoch 180/250\n",
            "5/5 [==============================] - 0s 6ms/step - loss: 0.5727 - accuracy: 0.8636\n",
            "Epoch 181/250\n",
            "5/5 [==============================] - 0s 6ms/step - loss: 0.5717 - accuracy: 0.8561\n",
            "Epoch 182/250\n",
            "5/5 [==============================] - 0s 5ms/step - loss: 0.5708 - accuracy: 0.8485\n",
            "Epoch 183/250\n",
            "5/5 [==============================] - 0s 5ms/step - loss: 0.5701 - accuracy: 0.8485\n",
            "Epoch 184/250\n",
            "5/5 [==============================] - 0s 6ms/step - loss: 0.5691 - accuracy: 0.8561\n",
            "Epoch 185/250\n",
            "5/5 [==============================] - 0s 6ms/step - loss: 0.5683 - accuracy: 0.8561\n",
            "Epoch 186/250\n",
            "5/5 [==============================] - 0s 6ms/step - loss: 0.5674 - accuracy: 0.8561\n",
            "Epoch 187/250\n",
            "5/5 [==============================] - 0s 6ms/step - loss: 0.5667 - accuracy: 0.8636\n",
            "Epoch 188/250\n",
            "5/5 [==============================] - 0s 6ms/step - loss: 0.5661 - accuracy: 0.8636\n",
            "Epoch 189/250\n",
            "5/5 [==============================] - 0s 6ms/step - loss: 0.5656 - accuracy: 0.8485\n",
            "Epoch 190/250\n",
            "5/5 [==============================] - 0s 5ms/step - loss: 0.5645 - accuracy: 0.8485\n",
            "Epoch 191/250\n",
            "5/5 [==============================] - 0s 5ms/step - loss: 0.5639 - accuracy: 0.8485\n",
            "Epoch 192/250\n",
            "5/5 [==============================] - 0s 6ms/step - loss: 0.5629 - accuracy: 0.8485\n",
            "Epoch 193/250\n",
            "5/5 [==============================] - 0s 6ms/step - loss: 0.5625 - accuracy: 0.8561\n",
            "Epoch 194/250\n",
            "5/5 [==============================] - 0s 7ms/step - loss: 0.5618 - accuracy: 0.8561\n",
            "Epoch 195/250\n",
            "5/5 [==============================] - 0s 4ms/step - loss: 0.5612 - accuracy: 0.8561\n",
            "Epoch 196/250\n",
            "5/5 [==============================] - 0s 5ms/step - loss: 0.5602 - accuracy: 0.8636\n",
            "Epoch 197/250\n",
            "5/5 [==============================] - 0s 5ms/step - loss: 0.5593 - accuracy: 0.8636\n",
            "Epoch 198/250\n",
            "5/5 [==============================] - 0s 4ms/step - loss: 0.5584 - accuracy: 0.8712\n",
            "Epoch 199/250\n",
            "5/5 [==============================] - 0s 4ms/step - loss: 0.5578 - accuracy: 0.8712\n",
            "Epoch 200/250\n",
            "5/5 [==============================] - 0s 5ms/step - loss: 0.5573 - accuracy: 0.8712\n",
            "Epoch 201/250\n",
            "5/5 [==============================] - 0s 5ms/step - loss: 0.5567 - accuracy: 0.8712\n",
            "Epoch 202/250\n",
            "5/5 [==============================] - 0s 5ms/step - loss: 0.5556 - accuracy: 0.8712\n",
            "Epoch 203/250\n",
            "5/5 [==============================] - 0s 6ms/step - loss: 0.5546 - accuracy: 0.8636\n",
            "Epoch 204/250\n",
            "5/5 [==============================] - 0s 5ms/step - loss: 0.5543 - accuracy: 0.8712\n",
            "Epoch 205/250\n",
            "5/5 [==============================] - 0s 6ms/step - loss: 0.5528 - accuracy: 0.8712\n",
            "Epoch 206/250\n",
            "5/5 [==============================] - 0s 6ms/step - loss: 0.5522 - accuracy: 0.8712\n",
            "Epoch 207/250\n",
            "5/5 [==============================] - 0s 6ms/step - loss: 0.5512 - accuracy: 0.8636\n",
            "Epoch 208/250\n",
            "5/5 [==============================] - 0s 6ms/step - loss: 0.5505 - accuracy: 0.8636\n",
            "Epoch 209/250\n",
            "5/5 [==============================] - 0s 6ms/step - loss: 0.5499 - accuracy: 0.8636\n",
            "Epoch 210/250\n",
            "5/5 [==============================] - 0s 6ms/step - loss: 0.5489 - accuracy: 0.8636\n",
            "Epoch 211/250\n",
            "5/5 [==============================] - 0s 5ms/step - loss: 0.5489 - accuracy: 0.8712\n",
            "Epoch 212/250\n",
            "5/5 [==============================] - 0s 6ms/step - loss: 0.5484 - accuracy: 0.8636\n",
            "Epoch 213/250\n",
            "5/5 [==============================] - 0s 5ms/step - loss: 0.5483 - accuracy: 0.8636\n",
            "Epoch 214/250\n",
            "5/5 [==============================] - 0s 5ms/step - loss: 0.5475 - accuracy: 0.8636\n",
            "Epoch 215/250\n",
            "5/5 [==============================] - 0s 5ms/step - loss: 0.5467 - accuracy: 0.8636\n",
            "Epoch 216/250\n",
            "5/5 [==============================] - 0s 6ms/step - loss: 0.5456 - accuracy: 0.8636\n",
            "Epoch 217/250\n",
            "5/5 [==============================] - 0s 6ms/step - loss: 0.5447 - accuracy: 0.8636\n",
            "Epoch 218/250\n",
            "5/5 [==============================] - 0s 5ms/step - loss: 0.5441 - accuracy: 0.8636\n",
            "Epoch 219/250\n",
            "5/5 [==============================] - 0s 6ms/step - loss: 0.5430 - accuracy: 0.8636\n",
            "Epoch 220/250\n",
            "5/5 [==============================] - 0s 5ms/step - loss: 0.5426 - accuracy: 0.8636\n",
            "Epoch 221/250\n",
            "5/5 [==============================] - 0s 6ms/step - loss: 0.5414 - accuracy: 0.8712\n",
            "Epoch 222/250\n",
            "5/5 [==============================] - 0s 7ms/step - loss: 0.5403 - accuracy: 0.8712\n",
            "Epoch 223/250\n",
            "5/5 [==============================] - 0s 6ms/step - loss: 0.5396 - accuracy: 0.8712\n",
            "Epoch 224/250\n",
            "5/5 [==============================] - 0s 6ms/step - loss: 0.5391 - accuracy: 0.8788\n",
            "Epoch 225/250\n",
            "5/5 [==============================] - 0s 5ms/step - loss: 0.5383 - accuracy: 0.8788\n",
            "Epoch 226/250\n",
            "5/5 [==============================] - 0s 7ms/step - loss: 0.5377 - accuracy: 0.8788\n",
            "Epoch 227/250\n",
            "5/5 [==============================] - 0s 5ms/step - loss: 0.5372 - accuracy: 0.8788\n",
            "Epoch 228/250\n",
            "5/5 [==============================] - 0s 5ms/step - loss: 0.5366 - accuracy: 0.8636\n",
            "Epoch 229/250\n",
            "5/5 [==============================] - 0s 5ms/step - loss: 0.5361 - accuracy: 0.8636\n",
            "Epoch 230/250\n",
            "5/5 [==============================] - 0s 6ms/step - loss: 0.5356 - accuracy: 0.8636\n",
            "Epoch 231/250\n",
            "5/5 [==============================] - 0s 5ms/step - loss: 0.5348 - accuracy: 0.8636\n",
            "Epoch 232/250\n",
            "5/5 [==============================] - 0s 5ms/step - loss: 0.5340 - accuracy: 0.8636\n",
            "Epoch 233/250\n",
            "5/5 [==============================] - 0s 6ms/step - loss: 0.5331 - accuracy: 0.8788\n",
            "Epoch 234/250\n",
            "5/5 [==============================] - 0s 5ms/step - loss: 0.5324 - accuracy: 0.8788\n",
            "Epoch 235/250\n",
            "5/5 [==============================] - 0s 5ms/step - loss: 0.5319 - accuracy: 0.8788\n",
            "Epoch 236/250\n",
            "5/5 [==============================] - 0s 5ms/step - loss: 0.5311 - accuracy: 0.8788\n",
            "Epoch 237/250\n",
            "5/5 [==============================] - 0s 5ms/step - loss: 0.5304 - accuracy: 0.8712\n",
            "Epoch 238/250\n",
            "5/5 [==============================] - 0s 6ms/step - loss: 0.5298 - accuracy: 0.8712\n",
            "Epoch 239/250\n",
            "5/5 [==============================] - 0s 5ms/step - loss: 0.5294 - accuracy: 0.8636\n",
            "Epoch 240/250\n",
            "5/5 [==============================] - 0s 6ms/step - loss: 0.5289 - accuracy: 0.8636\n",
            "Epoch 241/250\n",
            "5/5 [==============================] - 0s 4ms/step - loss: 0.5279 - accuracy: 0.8561\n",
            "Epoch 242/250\n",
            "5/5 [==============================] - 0s 4ms/step - loss: 0.5270 - accuracy: 0.8636\n",
            "Epoch 243/250\n",
            "5/5 [==============================] - 0s 4ms/step - loss: 0.5265 - accuracy: 0.8636\n",
            "Epoch 244/250\n",
            "5/5 [==============================] - 0s 4ms/step - loss: 0.5256 - accuracy: 0.8636\n",
            "Epoch 245/250\n",
            "5/5 [==============================] - 0s 4ms/step - loss: 0.5249 - accuracy: 0.8636\n",
            "Epoch 246/250\n",
            "5/5 [==============================] - 0s 4ms/step - loss: 0.5242 - accuracy: 0.8636\n",
            "Epoch 247/250\n",
            "5/5 [==============================] - 0s 4ms/step - loss: 0.5237 - accuracy: 0.8561\n",
            "Epoch 248/250\n",
            "5/5 [==============================] - 0s 4ms/step - loss: 0.5230 - accuracy: 0.8561\n",
            "Epoch 249/250\n",
            "5/5 [==============================] - 0s 4ms/step - loss: 0.5224 - accuracy: 0.8561\n",
            "Epoch 250/250\n",
            "5/5 [==============================] - 0s 4ms/step - loss: 0.5218 - accuracy: 0.8636\n"
          ]
        },
        {
          "data": {
            "text/plain": [
              "<keras.src.callbacks.History at 0x793b87f756f0>"
            ]
          },
          "execution_count": 50,
          "metadata": {},
          "output_type": "execute_result"
        }
      ],
      "source": [
        "model.fit(X_train_avg, Y_train_one_hot, epochs=250)"
      ]
    },
    {
      "cell_type": "code",
      "execution_count": 56,
      "metadata": {
        "colab": {
          "base_uri": "https://localhost:8080/"
        },
        "id": "8cAd5fRnS4IG",
        "outputId": "5e7779ae-7ae7-41fe-e705-1bddf0146ba3"
      },
      "outputs": [
        {
          "data": {
            "text/plain": [
              "array([-0.33470468,  0.296985  , -0.32625075, -0.12892675,  0.289635  ,\n",
              "       -0.4978425 , -0.870515  ,  0.074885  , -0.5578725 , -0.00857761,\n",
              "        0.0234025 ,  0.4729155 , -0.615535  ,  0.07134   ,  1.013365  ,\n",
              "        0.326581  ,  0.31782425,  0.61534   , -0.62832425, -0.5111925 ,\n",
              "       -0.4746425 ,  0.47326   ,  0.430055  ,  0.5530325 ,  0.3975425 ,\n",
              "       -1.845075  , -0.72657975,  0.3544825 ,  0.3717075 , -0.82037   ,\n",
              "        2.85      ,  0.8758275 , -0.19117675, -0.2705945 , -0.130911  ,\n",
              "        0.2750675 , -0.0068475 ,  0.249615  ,  0.0608925 , -0.4966    ,\n",
              "       -0.24339108,  0.2379205 , -0.3379743 ,  0.4391425 ,  0.1994765 ,\n",
              "        0.36621225, -0.067645  , -0.2157725 , -0.26459225,  0.2223975 ])"
            ]
          },
          "execution_count": 56,
          "metadata": {},
          "output_type": "execute_result"
        }
      ],
      "source": [
        "my_test = \"I like watching football\"\n",
        "\n",
        "my_test_avg = sentence_to_avg(my_test)\n",
        "my_test_avg"
      ]
    },
    {
      "cell_type": "code",
      "execution_count": 57,
      "metadata": {
        "colab": {
          "base_uri": "https://localhost:8080/"
        },
        "id": "aq1kF7QXTYO-",
        "outputId": "fdb32b95-1ce0-4e58-ab43-c92be0c8dde4"
      },
      "outputs": [
        {
          "name": "stdout",
          "output_type": "stream",
          "text": [
            "1/1 [==============================] - 0s 19ms/step\n"
          ]
        },
        {
          "data": {
            "text/plain": [
              "array([[0.11939   , 0.69525236, 0.15358767, 0.01698845, 0.01478158]],\n",
              "      dtype=float32)"
            ]
          },
          "execution_count": 57,
          "metadata": {},
          "output_type": "execute_result"
        }
      ],
      "source": [
        "my_test_avg = np.array([my_test_avg]) \n",
        "\n",
        "result = model.predict(my_test_avg)\n",
        "result"
      ]
    },
    {
      "cell_type": "code",
      "execution_count": 58,
      "metadata": {
        "colab": {
          "base_uri": "https://localhost:8080/"
        },
        "id": "m0oxeXMcT-Lm",
        "outputId": "9f543be9-e5d7-4778-f484-9a392132585d"
      },
      "outputs": [
        {
          "data": {
            "text/plain": [
              "1"
            ]
          },
          "execution_count": 58,
          "metadata": {},
          "output_type": "execute_result"
        }
      ],
      "source": [
        "y_pred = np.argmax(result)\n",
        "y_pred"
      ]
    },
    {
      "cell_type": "code",
      "execution_count": 59,
      "metadata": {
        "colab": {
          "base_uri": "https://localhost:8080/",
          "height": 35
        },
        "id": "xX6QLJkJUJVu",
        "outputId": "6208dc33-d1a6-465f-cdc7-0b095c0fe43e"
      },
      "outputs": [
        {
          "data": {
            "application/vnd.google.colaboratory.intrinsic+json": {
              "type": "string"
            },
            "text/plain": [
              "'⚽️'"
            ]
          },
          "execution_count": 59,
          "metadata": {},
          "output_type": "execute_result"
        }
      ],
      "source": [
        "label_to_emoji(y_pred)"
      ]
    }
  ],
  "metadata": {
    "accelerator": "GPU",
    "colab": {
      "gpuType": "T4",
      "provenance": []
    },
    "kernelspec": {
      "display_name": "Python 3",
      "name": "python3"
    },
    "language_info": {
      "name": "python"
    }
  },
  "nbformat": 4,
  "nbformat_minor": 0
}
